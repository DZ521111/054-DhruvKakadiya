{
  "nbformat": 4,
  "nbformat_minor": 0,
  "metadata": {
    "colab": {
      "name": "LogisticRegression_Tensorflow.ipynb",
      "provenance": [],
      "collapsed_sections": []
    },
    "kernelspec": {
      "name": "python3",
      "display_name": "Python 3"
    }
  },
  "cells": [
    {
      "cell_type": "code",
      "metadata": {
        "id": "xvgNUMckU7Na"
      },
      "source": [
        "from __future__ import absolute_import, division, print_function\n",
        "\n",
        "import tensorflow as tf\n",
        "\n",
        "import numpy as np"
      ],
      "execution_count": null,
      "outputs": []
    },
    {
      "cell_type": "markdown",
      "metadata": {
        "id": "1PI1PqciVVT3"
      },
      "source": [
        "MNIST data set. MNIST data is a collection of hand-written digits that contains 60,000 examples for training and 10,000 examples for testing. The digits have been size-normalized and centered in a fixed-size image (28x28 pixels) with values from 0 to 255. \n",
        "\n",
        "Next for each image we will:\n",
        "\n",
        "1) converted it to float32\n",
        "\n",
        "2) normalized to [0, 1]\n",
        "\n",
        "3) flattened to a 1-D array of 784 features (28*28).\n",
        "\n"
      ]
    },
    {
      "cell_type": "markdown",
      "metadata": {
        "id": "li4iPhZvWG-1"
      },
      "source": [
        "#Step 2: Loading and Preparing the MNIST Data Set"
      ]
    },
    {
      "cell_type": "code",
      "metadata": {
        "id": "2L3GHvPxVfKH"
      },
      "source": [
        "from tensorflow.keras.datasets import mnist\n",
        "\n",
        "(x_train, y_train), (x_test, y_test) = mnist.load_data()\n",
        "\n",
        "# Convert to float32.\n",
        "\n",
        "\n",
        "\n",
        "# Flatten images to 1-D vector of 784 features (28*28).\n",
        "num_features=784\n",
        "\n",
        "\n",
        "\n",
        "# Normalize images value from [0, 255] to [0, 1].\n",
        "\n"
      ],
      "execution_count": null,
      "outputs": []
    },
    {
      "cell_type": "markdown",
      "metadata": {
        "id": "pRmiTr7hV43k"
      },
      "source": [
        "#Step 3: Setting Up Hyperparameters and Data Set Parameters\n",
        "\n",
        "Initialize the model parameters. \n",
        "\n",
        "num_classes denotes the number of outputs, which is 10, as we have digits from 0 to 9 in the data set. \n",
        "\n",
        "num_features defines the number of input parameters, and we store 784 since each image contains 784 pixels."
      ]
    },
    {
      "cell_type": "code",
      "metadata": {
        "id": "l5wqQDxJWDi1"
      },
      "source": [
        "# MNIST dataset parameters.\n",
        "\n",
        "num_classes = 10 # 0 to 9 digits\n",
        "\n",
        "num_features = 784 # 28*28\n",
        "\n",
        "# Training parameters.\n",
        "\n",
        "learning_rate = 0.01\n",
        "\n",
        "training_steps = 1000\n",
        "\n",
        "batch_size = 256\n",
        "\n",
        "display_step = 50"
      ],
      "execution_count": null,
      "outputs": []
    },
    {
      "cell_type": "markdown",
      "metadata": {
        "id": "iuEixbb8WX3f"
      },
      "source": [
        "#Step 4: Shuffling and Batching the Data\n",
        "\n",
        "We need to shuffle and batch the data before we start the actual training to avoid the model from getting biased by the data. This will allow our data to be more random and helps our model to gain higher accuracies with the test data.\n",
        "\n",
        "With the help of tf.data.Dataset.from_tensor_slices, we can get the slices of an array in the form of objects. \n",
        "\n",
        "The function shuffle(5000) randomizes the order of the data set’s examples. \n",
        "\n",
        "Here, 5000 denotes the variable shuffle_buffer, which tells the model to pick a sample randomly from 1 to 5000 samples. \n",
        "\n",
        "After that, there are only 4999 samples left in the buffer, so the sample 5001 gets added to the buffer. "
      ]
    },
    {
      "cell_type": "code",
      "metadata": {
        "id": "_oj9bVJqWhDv"
      },
      "source": [
        "# Use tf.data API to shuffle and batch data.\n"
      ],
      "execution_count": null,
      "outputs": []
    },
    {
      "cell_type": "markdown",
      "metadata": {
        "id": "6vXwmbU7WpZf"
      },
      "source": [
        "#Step 5: Initializing Weights and Biases\n",
        "\n",
        "We now initialize the weights vector and bias vector with ones and zeros."
      ]
    },
    {
      "cell_type": "code",
      "metadata": {
        "id": "guK098RvWrek"
      },
      "source": [
        "# Weight of shape [784, 10], the 28*28 image features, and a total number of classes.\n",
        "\n",
        "\n",
        "\n",
        "# Bias of shape [10], the total number of classes.\n",
        "\n"
      ],
      "execution_count": null,
      "outputs": []
    },
    {
      "cell_type": "markdown",
      "metadata": {
        "id": "zixB5WB1WzpA"
      },
      "source": [
        "#Step 6: Defining Logistic Regression and Cost Function\n",
        "\n",
        "We define the logistic_regression function below, which converts the inputs into a probability distribution proportional to the exponents of the inputs using the softmax function. The softmax function, which is implemented using the function tf.nn.softmax, also makes sure that the sum of all the inputs equals one."
      ]
    },
    {
      "cell_type": "code",
      "metadata": {
        "id": "oJEBWTjDW24p"
      },
      "source": [
        "# Logistic regression (Wx + b).\n",
        "\n",
        "def logistic_regression(x):\n",
        "\n",
        "    # Apply softmax to normalize the logits to a probability distribution.\n",
        "\n",
        "    \n",
        "\n",
        "# Cross-Entropy loss function.\n",
        "\n",
        "def cross_entropy(y_pred, y_true):\n",
        "\n",
        "    # Encode label to a one hot vector.\n",
        "\n",
        "    \n",
        "\n",
        "    # Clip prediction values to avoid log(0) error.\n",
        "\n",
        "    \n",
        "\n",
        "    # Compute cross-entropy.\n"
      ],
      "execution_count": null,
      "outputs": []
    },
    {
      "cell_type": "markdown",
      "metadata": {
        "id": "FhOVijJOW_mu"
      },
      "source": [
        "#Step 7: Defining Optimizers and Accuracy Metrics\n",
        "When we compute the output, it gives us the probability of the given data to fit a particular class of output. \n",
        "\n",
        "We consider the correct prediction as to the class having the highest probability. \n",
        "\n",
        "We compute this using the function tf.argmax. \n",
        "\n",
        "We also define the stochastic gradient descent as the optimizer from several optimizers present in TensorFlow. We do this using the function tf.optimizers.SGD. \n",
        "\n",
        "This function takes in the learning rate as its input, which defines how fast the model should reach its minimum loss or gain the highest accuracy."
      ]
    },
    {
      "cell_type": "code",
      "metadata": {
        "id": "Updp5rlyXGf9"
      },
      "source": [
        "# Accuracy metric.\n",
        "\n",
        "def accuracy(y_pred, y_true):\n",
        "\n",
        "  # Predicted class is the index of the highest score in prediction vector (i.e. argmax).\n",
        "\n",
        "\n"
      ],
      "execution_count": null,
      "outputs": []
    },
    {
      "cell_type": "markdown",
      "metadata": {
        "id": "5Kh8AXIeXJ2Q"
      },
      "source": [
        "#Step 8: Optimization Process and Updating Weights and Biases\n",
        "Now we define the run_optimization() method where we update the weights of our model. We calculate the predictions using the logistic_regression(x) method by taking the inputs and find out the loss generated by comparing the predicted value and the original value present in the data set. Next, we compute the gradients using and update the weights of the model with our stochastic gradient descent optimizer."
      ]
    },
    {
      "cell_type": "code",
      "metadata": {
        "id": "zh9qjQZNXSp0"
      },
      "source": [
        "# Optimization process. \n",
        "\n",
        "def run_optimization(x, y):\n",
        "\n",
        "# Wrap computation inside a GradientTape for automatic differentiation.\n",
        "\n",
        "\n",
        "    # Compute gradients.\n",
        "\n",
        "    \n",
        "\n",
        "\n",
        "    # Stochastic gradient descent optimizer.\n",
        "\n",
        "    \n",
        "    \n",
        "    # Update W and b following gradients.\n",
        "\n",
        "    "
      ],
      "execution_count": null,
      "outputs": []
    },
    {
      "cell_type": "markdown",
      "metadata": {
        "id": "fLAj8042XWT9"
      },
      "source": [
        "#Step 9: The Training Loop"
      ]
    },
    {
      "cell_type": "code",
      "metadata": {
        "id": "D0XEQd0f7QYj"
      },
      "source": [
        "# Run training for the given number of steps.\n",
        "\n",
        "for step, (batch_x, batch_y) in enumerate(train_data.take(training_steps), 1):\n",
        "\n",
        "    # Run the optimization to update W and b values.\n",
        "\n",
        "    run_optimization(batch_x, batch_y)\n",
        "\n",
        "    \n",
        "\n",
        "    if step % display_step == 0:\n",
        "\n",
        "        #Obtain Predictions\n",
        "       \n",
        "        #Ccompute loss\n",
        "        \n",
        "        #Compute Accuracy\n",
        "        \n",
        "        #print accuracy\n",
        "        "
      ],
      "execution_count": null,
      "outputs": []
    },
    {
      "cell_type": "markdown",
      "metadata": {
        "id": "lGXSf6nAX0yF"
      },
      "source": [
        "#Step 10: Testing Model Accuracy Using the Test Data\n",
        "\n",
        "Finally, we check the model accuracy by sending the test data set into our model and compute the accuracy using the accuracy function that we defined earlier."
      ]
    },
    {
      "cell_type": "code",
      "metadata": {
        "id": "ZNfKDFBY9NPl"
      },
      "source": [
        "# Test model on validation set.\n"
      ],
      "execution_count": null,
      "outputs": []
    }
  ]
}