{
  "nbformat": 4,
  "nbformat_minor": 2,
  "metadata": {
    "colab": {
      "name": "054_Linear_Regression_Torch.ipynb",
      "provenance": []
    },
    "kernelspec": {
      "name": "python3",
      "display_name": "Python 3"
    },
    "language_info": {
      "name": "python"
    }
  },
  "cells": [
    {
      "cell_type": "markdown",
      "source": [
        "PyTorch basics - Linear Regression from scratch"
      ],
      "metadata": {
        "id": "y3ODad6b-lv_"
      }
    },
    {
      "cell_type": "code",
      "execution_count": 1,
      "source": [
        "'''\r\n",
        "Author: Dhruv B Kakadiya\r\n",
        "\r\n",
        "'''"
      ],
      "outputs": [
        {
          "output_type": "execute_result",
          "data": {
            "text/plain": [
              "'\\nAuthor: Dhruv B Kakadiya\\n\\n'"
            ],
            "application/vnd.google.colaboratory.intrinsic+json": {
              "type": "string"
            }
          },
          "metadata": {},
          "execution_count": 1
        }
      ],
      "metadata": {
        "colab": {
          "base_uri": "https://localhost:8080/",
          "height": 35
        },
        "id": "FIWDhuOz-ohZ",
        "outputId": "a2b5fbcc-1085-480f-8d41-3d78cc9e125b"
      }
    },
    {
      "cell_type": "code",
      "execution_count": 2,
      "source": [
        "from google.colab import drive\r\n",
        "drive.mount(\"/content/drive\")"
      ],
      "outputs": [
        {
          "output_type": "stream",
          "name": "stdout",
          "text": [
            "Mounted at /content/drive\n"
          ]
        }
      ],
      "metadata": {
        "colab": {
          "base_uri": "https://localhost:8080/"
        },
        "id": "T2KhWRr6-vRh",
        "outputId": "0096bf92-f570-4633-c22f-69d75444561c"
      }
    },
    {
      "cell_type": "code",
      "execution_count": 16,
      "source": [
        "# importing libraries\r\n",
        "\r\n",
        "import numpy as np\r\n",
        "import pandas as pd\r\n",
        "import matplotlib.pyplot as plt\r\n",
        "\r\n",
        "from sklearn.preprocessing import OneHotEncoder, LabelEncoder\r\n",
        "from sklearn.tree import DecisionTreeClassifier, export_graphviz, plot_tree\r\n",
        "from sklearn.model_selection import train_test_split\r\n",
        "from sklearn.metrics import accuracy_score, confusion_matrix, precision_score, recall_score\r\n",
        "from subprocess import call"
      ],
      "outputs": [],
      "metadata": {
        "id": "9CwmVPCB-xrR"
      }
    },
    {
      "cell_type": "code",
      "execution_count": 17,
      "source": [
        "import torch"
      ],
      "outputs": [],
      "metadata": {
        "id": "m4cutOzl_guh"
      }
    },
    {
      "cell_type": "markdown",
      "source": [
        "We'll create a model that predicts crop yeilds for apples (*target variable*) by looking at the average temperature, rainfall and humidity (*input variables or features*) in different regions. \r\n",
        "\r\n",
        "Here's the training data:\r\n",
        "\r\n",
        ">Temp | Rain | Humidity | Prediction\r\n",
        ">--- | --- | --- | ---\r\n",
        "> 73 | 67 | 43 | 56\r\n",
        "> 91 | 88 | 64 | 81\r\n",
        "> 87 | 134 | 58 | 119\r\n",
        "> 102 | 43 | 37 | 22\r\n",
        "> 69 | 96 | 70 | 103\r\n",
        "\r\n",
        "In a **linear regression** model, each target variable is estimated to be a weighted sum of the input variables, offset by some constant, known as a bias :\r\n",
        "\r\n",
        "```\r\n",
        "yeild_apple  = w11 * temp + w12 * rainfall + w13 * humidity + b1\r\n",
        "```\r\n",
        "\r\n",
        "It means that the yield of apples is a linear or planar function of the temperature, rainfall & humidity.\r\n",
        "\r\n",
        "\r\n",
        "\r\n",
        "**Our objective**: Find a suitable set of *weights* and *biases* using the training data, to make accurate predictions."
      ],
      "metadata": {}
    },
    {
      "cell_type": "code",
      "execution_count": 18,
      "source": [
        "# Input (temp, rainfall, humidity)\r\n",
        "inputs = np.array([[73, 67, 43], \r\n",
        "                   [91, 88, 64], \r\n",
        "                   [87, 134, 58], \r\n",
        "                   [102, 43, 37], \r\n",
        "                   [69, 96, 70]], dtype='float32')"
      ],
      "outputs": [],
      "metadata": {
        "id": "Z5OfSyiq_iy_"
      }
    },
    {
      "cell_type": "code",
      "execution_count": 19,
      "source": [
        "# Targets (apples, oranges)\r\n",
        "targets = np.array([[56, 70], \r\n",
        "                    [81, 101], \r\n",
        "                    [119, 133], \r\n",
        "                    [22, 37], \r\n",
        "                    [103, 119]], dtype='float32')"
      ],
      "outputs": [],
      "metadata": {
        "id": "Xxc-Nhc9_oEI"
      }
    },
    {
      "cell_type": "code",
      "execution_count": 20,
      "source": [
        "# Convert inputs and targets to tensors\r\n",
        "inputs = torch.from_numpy(inputs)\r\n",
        "targets = torch.from_numpy(targets)\r\n",
        "print(inputs)\r\n",
        "print(targets)"
      ],
      "outputs": [
        {
          "output_type": "stream",
          "name": "stdout",
          "text": [
            "tensor([[ 73.,  67.,  43.],\n",
            "        [ 91.,  88.,  64.],\n",
            "        [ 87., 134.,  58.],\n",
            "        [102.,  43.,  37.],\n",
            "        [ 69.,  96.,  70.]])\n",
            "tensor([[ 56.,  70.],\n",
            "        [ 81., 101.],\n",
            "        [119., 133.],\n",
            "        [ 22.,  37.],\n",
            "        [103., 119.]])\n"
          ]
        }
      ],
      "metadata": {
        "colab": {
          "base_uri": "https://localhost:8080/"
        },
        "id": "RnJF0WdU_p4A",
        "outputId": "b48176a1-b6fa-455b-9b92-28d5b0daa2ca"
      }
    },
    {
      "cell_type": "markdown",
      "source": [
        "## Linear Regression Model (from scratch)\r\n",
        "\r\n",
        "The *weights* and *biases* can also be represented as matrices, initialized with random values. The first row of `w` and the first element of `b` are use to predict the first target variable i.e. yield for apples, and similarly the second for oranges."
      ],
      "metadata": {}
    },
    {
      "cell_type": "code",
      "execution_count": 21,
      "source": [
        "# Weights and biases\r\n",
        "w = torch.randn(2, 3, requires_grad=True)\r\n",
        "b = torch.randn(2, requires_grad=True)\r\n",
        "print(w)\r\n",
        "print(b)"
      ],
      "outputs": [
        {
          "output_type": "stream",
          "name": "stdout",
          "text": [
            "tensor([[ 0.7317, -1.2505,  0.3836],\n",
            "        [ 0.9070,  0.0806,  0.5828]], requires_grad=True)\n",
            "tensor([ 0.0287, -1.2243], requires_grad=True)\n"
          ]
        }
      ],
      "metadata": {
        "colab": {
          "base_uri": "https://localhost:8080/"
        },
        "id": "15MFGcqe_tch",
        "outputId": "a7ac08ab-dd78-4961-eddd-df4eb87ab0eb"
      }
    },
    {
      "cell_type": "markdown",
      "source": [
        "The *model* is simply a function that performs a matrix multiplication of the input `x` and the weights `w` (transposed) and adds the bias `b` (replicated for each observation).\r\n",
        "\r\n",
        "$$\r\n",
        "\\hspace{2.5cm} X \\hspace{1.1cm} \\times \\hspace{1.2cm} W^T \\hspace{1.2cm}  + \\hspace{1cm} b \\hspace{2cm}\r\n",
        "$$\r\n",
        "\r\n",
        "$$\r\n",
        "\\left[ \\begin{array}{cc}\r\n",
        "73 & 67 & 43 \\\\\r\n",
        "91 & 88 & 64 \\\\\r\n",
        "\\vdots & \\vdots & \\vdots \\\\\r\n",
        "69 & 96 & 70\r\n",
        "\\end{array} \\right]\r\n",
        "%\r\n",
        "\\times\r\n",
        "%\r\n",
        "\\left[ \\begin{array}{cc}\r\n",
        "w_{11} & w_{21} \\\\\r\n",
        "w_{12} & w_{22} \\\\\r\n",
        "w_{13} & w_{23}\r\n",
        "\\end{array} \\right]\r\n",
        "%\r\n",
        "+\r\n",
        "%\r\n",
        "\\left[ \\begin{array}{cc}\r\n",
        "b_{1} & b_{2} \\\\\r\n",
        "b_{1} & b_{2} \\\\\r\n",
        "\\vdots & \\vdots \\\\\r\n",
        "b_{1} & b_{2} \\\\\r\n",
        "\\end{array} \\right]\r\n",
        "$$"
      ],
      "metadata": {}
    },
    {
      "cell_type": "code",
      "execution_count": 22,
      "source": [
        "# Define the model\r\n",
        "def model(x):\r\n",
        "    return x @ w.t() + b\r\n",
        "  \r\n",
        "# Generate predictions\r\n",
        "preds = model(inputs)\r\n",
        "print(preds)\r\n",
        "print(targets)"
      ],
      "outputs": [
        {
          "output_type": "stream",
          "name": "stdout",
          "text": [
            "tensor([[-13.8492,  95.4441],\n",
            "        [-18.8846, 125.7003],\n",
            "        [-81.6368, 122.2839],\n",
            "        [ 35.0809, 116.3151],\n",
            "        [-42.6845, 109.8883]], grad_fn=<AddBackward0>)\n",
            "tensor([[ 56.,  70.],\n",
            "        [ 81., 101.],\n",
            "        [119., 133.],\n",
            "        [ 22.,  37.],\n",
            "        [103., 119.]])\n"
          ]
        }
      ],
      "metadata": {
        "colab": {
          "base_uri": "https://localhost:8080/"
        },
        "id": "5aAF5V27__Hw",
        "outputId": "45b7f83b-c84a-4466-8832-347e39caaf4f"
      }
    },
    {
      "cell_type": "markdown",
      "source": [
        "## Loss Function\r\n",
        "\r\n",
        "We can compare the predictions with the actual targets, using the following method: \r\n",
        "* Calculate the difference between the two matrices (`preds` and `targets`).\r\n",
        "* Square all elements of the difference matrix to remove negative values.\r\n",
        "* Calculate the average of the elements in the resulting matrix.\r\n",
        "\r\n",
        "The result is a single number, known as the **mean squared error** (MSE)."
      ],
      "metadata": {}
    },
    {
      "cell_type": "markdown",
      "source": [
        "Loss Function"
      ],
      "metadata": {
        "id": "wgmQ1JJ-AQ56"
      }
    },
    {
      "cell_type": "code",
      "execution_count": 23,
      "source": [
        "# MSE loss\r\n",
        "def mse(t1, t2):\r\n",
        "    diff = t1 - t2\r\n",
        "    return torch.sum(diff * diff) / diff.numel()\r\n",
        "\r\n",
        "# Compute loss\r\n",
        "loss = mse(preds, targets)\r\n",
        "print(loss)"
      ],
      "outputs": [
        {
          "output_type": "stream",
          "name": "stdout",
          "text": [
            "tensor(8425.2305, grad_fn=<DivBackward0>)\n"
          ]
        }
      ],
      "metadata": {
        "colab": {
          "base_uri": "https://localhost:8080/"
        },
        "id": "TUyxnzfSAI1g",
        "outputId": "bf8cf073-8bcc-4bf6-e44d-e06fb0433279"
      }
    },
    {
      "cell_type": "markdown",
      "source": [
        "## Compute Gradients\r\n",
        "\r\n",
        "With PyTorch, we can automatically compute the gradient or derivative of the `loss` w.r.t. to the weights and biases, because they have `requires_grad` set to `True`.\r\n",
        "\r\n",
        "More on autograd:  https://pytorch.org/docs/stable/autograd.html#module-torch.autograd"
      ],
      "metadata": {}
    },
    {
      "cell_type": "code",
      "execution_count": 24,
      "source": [
        "# Compute gradients\r\n",
        "loss.backward()\r\n",
        "\r\n",
        "# Gradients for weights\r\n",
        "print(w)\r\n",
        "print(w.grad)\r\n",
        "print(b)\r\n",
        "print(b.grad)"
      ],
      "outputs": [
        {
          "output_type": "stream",
          "name": "stdout",
          "text": [
            "tensor([[ 0.7317, -1.2505,  0.3836],\n",
            "        [ 0.9070,  0.0806,  0.5828]], requires_grad=True)\n",
            "tensor([[ -8072.3750, -10755.6621,  -6149.3979],\n",
            "        [  2126.8538,    995.6473,    870.0427]])\n",
            "tensor([ 0.0287, -1.2243], requires_grad=True)\n",
            "tensor([-100.5948,   21.9263])\n"
          ]
        }
      ],
      "metadata": {
        "colab": {
          "base_uri": "https://localhost:8080/"
        },
        "id": "M_jFoET-AYsw",
        "outputId": "c97af7d5-84ea-44b5-a54a-0a104c75c8ee"
      }
    },
    {
      "cell_type": "markdown",
      "source": [
        "A key insight from calculus is that the gradient indicates the rate of change of the loss, or the slope of the loss function w.r.t. the weights and biases. \r\n",
        "\r\n",
        "* If a gradient element is **postive**, \r\n",
        "    * **increasing** the element's value slightly will **increase** the loss.\r\n",
        "    * **decreasing** the element's value slightly will **decrease** the loss.\r\n",
        "\r\n",
        "\r\n",
        "\r\n",
        "\r\n",
        "* If a gradient element is **negative**,\r\n",
        "    * **increasing** the element's value slightly will **decrease** the loss.\r\n",
        "    * **decreasing** the element's value slightly will **increase** the loss.\r\n",
        "    \r\n",
        "\r\n",
        "\r\n",
        "The increase or decrease is proportional to the value of the gradient."
      ],
      "metadata": {}
    },
    {
      "cell_type": "code",
      "execution_count": 25,
      "source": [
        "# Generate predictions\r\n",
        "preds = model(inputs)\r\n",
        "print(preds)"
      ],
      "outputs": [
        {
          "output_type": "stream",
          "name": "stdout",
          "text": [
            "tensor([[-13.8492,  95.4441],\n",
            "        [-18.8846, 125.7003],\n",
            "        [-81.6368, 122.2839],\n",
            "        [ 35.0809, 116.3151],\n",
            "        [-42.6845, 109.8883]], grad_fn=<AddBackward0>)\n"
          ]
        }
      ],
      "metadata": {
        "colab": {
          "base_uri": "https://localhost:8080/"
        },
        "id": "55lKF-xDAfHo",
        "outputId": "196c7e37-611c-4fce-a9e0-8f2ee532918c"
      }
    },
    {
      "cell_type": "code",
      "execution_count": 26,
      "source": [
        "# Calculate the loss\r\n",
        "loss = mse(preds, targets)\r\n",
        "print(loss)"
      ],
      "outputs": [
        {
          "output_type": "stream",
          "name": "stdout",
          "text": [
            "tensor(8425.2305, grad_fn=<DivBackward0>)\n"
          ]
        }
      ],
      "metadata": {
        "colab": {
          "base_uri": "https://localhost:8080/"
        },
        "id": "GvNtsD1jA5q2",
        "outputId": "83080b9d-6974-4b8a-98db-dbe99e1c627b"
      }
    },
    {
      "cell_type": "code",
      "execution_count": 27,
      "source": [
        "# Compute gradients\n",
        "loss.backward()\n",
        "\n",
        "# Adjust weights & reset gradients\n",
        "with torch.no_grad():\n",
        "    w -= w.grad * 1e-5\n",
        "    b -= b.grad * 1e-5\n",
        "    w.grad.zero_()\n",
        "    b.grad.zero_()\n",
        "\n",
        "print(w)"
      ],
      "outputs": [
        {
          "output_type": "stream",
          "name": "stdout",
          "text": [
            "tensor([[ 0.8931, -1.0354,  0.5066],\n",
            "        [ 0.8644,  0.0607,  0.5654]], requires_grad=True)\n"
          ]
        }
      ],
      "metadata": {
        "colab": {
          "base_uri": "https://localhost:8080/"
        },
        "id": "qQ0sIBzqA7hY",
        "outputId": "73004871-266e-4a03-eb27-81e75484d69f"
      }
    },
    {
      "cell_type": "code",
      "execution_count": 28,
      "source": [
        "# Calculate loss\n",
        "preds = model(inputs)\n",
        "loss = mse(preds, targets)\n",
        "print(loss)"
      ],
      "outputs": [
        {
          "output_type": "stream",
          "name": "stdout",
          "text": [
            "tensor(4722.3564, grad_fn=<DivBackward0>)\n"
          ]
        }
      ],
      "metadata": {
        "colab": {
          "base_uri": "https://localhost:8080/"
        },
        "id": "6R_EallrBINP",
        "outputId": "8245a7a3-b15c-44e7-94f4-bdfa251b2dcd"
      }
    },
    {
      "cell_type": "code",
      "execution_count": 29,
      "source": [
        "# Train for 100 epochs\n",
        "for i in range(100):\n",
        "    preds = model(inputs)\n",
        "    loss = mse(preds, targets)\n",
        "    loss.backward()\n",
        "    with torch.no_grad():\n",
        "        w -= w.grad * 1e-5\n",
        "        b -= b.grad * 1e-5\n",
        "        w.grad.zero_()\n",
        "        b.grad.zero_()"
      ],
      "outputs": [],
      "metadata": {
        "id": "XXtMX4HtBLZd"
      }
    },
    {
      "cell_type": "code",
      "execution_count": 30,
      "source": [
        "# Calculate loss\n",
        "preds = model(inputs)\n",
        "loss = mse(preds, targets)\n",
        "print(loss)"
      ],
      "outputs": [
        {
          "output_type": "stream",
          "name": "stdout",
          "text": [
            "tensor(612.4523, grad_fn=<DivBackward0>)\n"
          ]
        }
      ],
      "metadata": {
        "colab": {
          "base_uri": "https://localhost:8080/"
        },
        "id": "SdcJg1UjBSP3",
        "outputId": "41c603dd-9d3c-434b-c0f1-3ce0bc8ff026"
      }
    },
    {
      "cell_type": "code",
      "execution_count": 31,
      "source": [
        "# Print predictions\n",
        "preds"
      ],
      "outputs": [
        {
          "output_type": "execute_result",
          "data": {
            "text/plain": [
              "tensor([[ 66.2592,  76.0827],\n",
              "        [ 90.7835, 103.3186],\n",
              "        [ 84.5672, 117.6493],\n",
              "        [ 74.1543,  71.6410],\n",
              "        [ 85.8753, 103.2966]], grad_fn=<AddBackward0>)"
            ]
          },
          "metadata": {},
          "execution_count": 31
        }
      ],
      "metadata": {
        "colab": {
          "base_uri": "https://localhost:8080/"
        },
        "id": "YzPYnjbzBUkn",
        "outputId": "d46356b7-36b6-4fd7-c485-c7726d5cfafd"
      }
    },
    {
      "cell_type": "code",
      "execution_count": null,
      "source": [],
      "outputs": [],
      "metadata": {
        "id": "OiPP2pDFBWX4"
      }
    }
  ]
}