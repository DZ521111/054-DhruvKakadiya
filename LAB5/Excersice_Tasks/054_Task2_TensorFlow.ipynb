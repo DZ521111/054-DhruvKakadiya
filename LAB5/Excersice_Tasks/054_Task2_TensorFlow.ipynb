{
  "nbformat": 4,
  "nbformat_minor": 0,
  "metadata": {
    "colab": {
      "name": "054_Task2_TensorFlow.ipynb",
      "provenance": []
    },
    "kernelspec": {
      "name": "python3",
      "display_name": "Python 3"
    },
    "language_info": {
      "name": "python"
    }
  },
  "cells": [
    {
      "cell_type": "code",
      "metadata": {
        "id": "fNUuZDjBgk2J"
      },
      "source": [
        "# Try Linear regression on same prediction data using Tensorflow"
      ],
      "execution_count": 3,
      "outputs": []
    },
    {
      "cell_type": "markdown",
      "metadata": {
        "id": "x-9Rq__ggpwX"
      },
      "source": [
        ""
      ]
    },
    {
      "cell_type": "code",
      "metadata": {
        "colab": {
          "base_uri": "https://localhost:8080/",
          "height": 35
        },
        "id": "Vjy5kM4Igzgr",
        "outputId": "4b5b4735-14b8-426c-d51a-b792533e79d6"
      },
      "source": [
        "'''\n",
        "Author: Dhruv B Kakadiya\n",
        "\n",
        "'''"
      ],
      "execution_count": 4,
      "outputs": [
        {
          "output_type": "execute_result",
          "data": {
            "application/vnd.google.colaboratory.intrinsic+json": {
              "type": "string"
            },
            "text/plain": [
              "'\\nAuthor: Dhruv B Kakadiya\\n\\n'"
            ]
          },
          "metadata": {},
          "execution_count": 4
        }
      ]
    },
    {
      "cell_type": "code",
      "metadata": {
        "id": "h4vBvv1mg_Lc"
      },
      "source": [
        "import numpy as np\n",
        "import pandas as pd \n",
        "import matplotlib.pyplot as plt\n",
        "%matplotlib inline\n",
        "import tensorflow as tf"
      ],
      "execution_count": 5,
      "outputs": []
    },
    {
      "cell_type": "code",
      "metadata": {
        "colab": {
          "base_uri": "https://localhost:8080/"
        },
        "id": "w0anm4e9hA_c",
        "outputId": "4214a450-5759-4000-89d4-2472ff6107a7"
      },
      "source": [
        "# Use seaborn for pairplot\n",
        "import seaborn as sns\n",
        "\n",
        "from tensorflow import keras\n",
        "from tensorflow.keras import layers\n",
        "from tensorflow.keras.layers.experimental import preprocessing\n",
        "\n",
        "print(tf.__version__)"
      ],
      "execution_count": 16,
      "outputs": [
        {
          "output_type": "stream",
          "name": "stdout",
          "text": [
            "2.6.0\n"
          ]
        }
      ]
    },
    {
      "cell_type": "code",
      "metadata": {
        "id": "VnquwfNkhM_s"
      },
      "source": [
        "# Input (temp, rainfall, humidity)\n",
        "inputs = np.array([[73, 67, 43], [91, 88, 64], [87, 134, 58], [102, 43, 37], [69, 96, 70], [73, 67, 43], [91, 88, 64], [87, 134, 58], [102, 43, 37], [69, 96, 70], [73, 67, 43], [91, 88, 64], [87, 134, 58], [102, 43, 37], [69, 96, 70]], dtype='float32')\n",
        "# Targets (apples)\n",
        "targets = np.array([[56], [81], [119], [22], [103], \n",
        "                    [56], [81], [119], [22], [103], \n",
        "                    [56], [81], [119], [22], [103]], dtype='float32')"
      ],
      "execution_count": 17,
      "outputs": []
    },
    {
      "cell_type": "code",
      "metadata": {
        "id": "-VtRBldkiJ1F"
      },
      "source": [
        "df_inputs = pd.DataFrame(inputs, columns = ['temp','rainfall','humidity'])\n",
        "features = df_inputs.copy()\n",
        "train_features = features[:10]\n",
        "test_features = features[10:] \n",
        "\n",
        "df_targets = pd.DataFrame(targets, columns = ['apples'])\n",
        "label = df_targets.copy()\n",
        "train_label =  label[:10]\n",
        "test_label = label[10:]"
      ],
      "execution_count": 69,
      "outputs": []
    },
    {
      "cell_type": "code",
      "metadata": {
        "colab": {
          "base_uri": "https://localhost:8080/"
        },
        "id": "YykrFlkYiPEZ",
        "outputId": "9b4eadeb-ad92-4689-974b-56df5572d4ee"
      },
      "source": [
        "print(train_data)\n",
        "print(train_features)\n",
        "print(train_label)"
      ],
      "execution_count": 70,
      "outputs": [
        {
          "output_type": "stream",
          "name": "stdout",
          "text": [
            "     temp  rainfall  humidity\n",
            "0    73.0      67.0      43.0\n",
            "1    91.0      88.0      64.0\n",
            "2    87.0     134.0      58.0\n",
            "3   102.0      43.0      37.0\n",
            "4    69.0      96.0      70.0\n",
            "5    73.0      67.0      43.0\n",
            "6    91.0      88.0      64.0\n",
            "7    87.0     134.0      58.0\n",
            "8   102.0      43.0      37.0\n",
            "9    69.0      96.0      70.0\n",
            "10   73.0      67.0      43.0\n",
            "11   91.0      88.0      64.0\n",
            "12   87.0     134.0      58.0\n",
            "13  102.0      43.0      37.0\n",
            "14   69.0      96.0      70.0\n",
            "    temp  rainfall  humidity\n",
            "0   73.0      67.0      43.0\n",
            "1   91.0      88.0      64.0\n",
            "2   87.0     134.0      58.0\n",
            "3  102.0      43.0      37.0\n",
            "4   69.0      96.0      70.0\n",
            "5   73.0      67.0      43.0\n",
            "6   91.0      88.0      64.0\n",
            "7   87.0     134.0      58.0\n",
            "8  102.0      43.0      37.0\n",
            "9   69.0      96.0      70.0\n",
            "   apples\n",
            "0    56.0\n",
            "1    81.0\n",
            "2   119.0\n",
            "3    22.0\n",
            "4   103.0\n",
            "5    56.0\n",
            "6    81.0\n",
            "7   119.0\n",
            "8    22.0\n",
            "9   103.0\n"
          ]
        }
      ]
    },
    {
      "cell_type": "code",
      "metadata": {
        "colab": {
          "base_uri": "https://localhost:8080/",
          "height": 142
        },
        "id": "OlpmUL7slP9a",
        "outputId": "eeb975e3-73c7-44f3-9bd6-247d8178fb3e"
      },
      "source": [
        "train_features.describe().transpose()[['mean', 'std']]"
      ],
      "execution_count": 71,
      "outputs": [
        {
          "output_type": "execute_result",
          "data": {
            "text/html": [
              "<div>\n",
              "<style scoped>\n",
              "    .dataframe tbody tr th:only-of-type {\n",
              "        vertical-align: middle;\n",
              "    }\n",
              "\n",
              "    .dataframe tbody tr th {\n",
              "        vertical-align: top;\n",
              "    }\n",
              "\n",
              "    .dataframe thead th {\n",
              "        text-align: right;\n",
              "    }\n",
              "</style>\n",
              "<table border=\"1\" class=\"dataframe\">\n",
              "  <thead>\n",
              "    <tr style=\"text-align: right;\">\n",
              "      <th></th>\n",
              "      <th>mean</th>\n",
              "      <th>std</th>\n",
              "    </tr>\n",
              "  </thead>\n",
              "  <tbody>\n",
              "    <tr>\n",
              "      <th>temp</th>\n",
              "      <td>84.400002</td>\n",
              "      <td>12.712199</td>\n",
              "    </tr>\n",
              "    <tr>\n",
              "      <th>rainfall</th>\n",
              "      <td>85.599998</td>\n",
              "      <td>32.031929</td>\n",
              "    </tr>\n",
              "    <tr>\n",
              "      <th>humidity</th>\n",
              "      <td>54.400002</td>\n",
              "      <td>13.175735</td>\n",
              "    </tr>\n",
              "  </tbody>\n",
              "</table>\n",
              "</div>"
            ],
            "text/plain": [
              "               mean        std\n",
              "temp      84.400002  12.712199\n",
              "rainfall  85.599998  32.031929\n",
              "humidity  54.400002  13.175735"
            ]
          },
          "metadata": {},
          "execution_count": 71
        }
      ]
    },
    {
      "cell_type": "code",
      "metadata": {
        "colab": {
          "base_uri": "https://localhost:8080/",
          "height": 567
        },
        "id": "wlfZSw0ClkWT",
        "outputId": "c3fbfcd6-2371-4a76-fd81-6b4e1debddaa"
      },
      "source": [
        "sns.pairplot(train_features[['temp', 'rainfall', 'humidity']], diag_kind='kde')"
      ],
      "execution_count": 72,
      "outputs": [
        {
          "output_type": "execute_result",
          "data": {
            "text/plain": [
              "<seaborn.axisgrid.PairGrid at 0x7f59da373f10>"
            ]
          },
          "metadata": {},
          "execution_count": 72
        },
        {
          "output_type": "display_data",
          "data": {
            "image/png": "[encoded data removed]",
            "text/plain": [
              "<Figure size 540x540 with 12 Axes>"
            ]
          },
          "metadata": {
            "needs_background": "light"
          }
        }
      ]
    },
    {
      "cell_type": "code",
      "metadata": {
        "id": "WbEHN4ZinRJi"
      },
      "source": [
        "# with one variable input \"Temp\""
      ],
      "execution_count": 27,
      "outputs": []
    },
    {
      "cell_type": "code",
      "metadata": {
        "id": "XbI0AbXXpMfH"
      },
      "source": [
        "from sklearn.preprocessing import Normalizer\n",
        "import sklearn.preprocessing"
      ],
      "execution_count": 28,
      "outputs": []
    },
    {
      "cell_type": "code",
      "metadata": {
        "id": "S8yIi0TUp1RR"
      },
      "source": [
        "temp = np.array(train_features['temp'])\n",
        "\n",
        "temp_normalizer = preprocessing.Normalization(input_shape=[1, ], axis = None)\n",
        "temp_normalizer.adapt(temp)"
      ],
      "execution_count": 73,
      "outputs": []
    },
    {
      "cell_type": "code",
      "metadata": {
        "id": "GEflNSDXqM1R"
      },
      "source": [
        "temp_linear_model = tf.keras.Sequential([\n",
        "    temp_normalizer,\n",
        "    layers.Dense(units=1)           \n",
        "])"
      ],
      "execution_count": 74,
      "outputs": []
    },
    {
      "cell_type": "code",
      "metadata": {
        "colab": {
          "base_uri": "https://localhost:8080/"
        },
        "id": "CkiCvIDUq0Vp",
        "outputId": "2575e8f5-0b59-4002-898a-bef70a0ef88f"
      },
      "source": [
        "temp_linear_model.summary()"
      ],
      "execution_count": 75,
      "outputs": [
        {
          "output_type": "stream",
          "name": "stdout",
          "text": [
            "Model: \"sequential_5\"\n",
            "_________________________________________________________________\n",
            "Layer (type)                 Output Shape              Param #   \n",
            "=================================================================\n",
            "normalization_3 (Normalizati (None, 1)                 3         \n",
            "_________________________________________________________________\n",
            "dense_5 (Dense)              (None, 1)                 2         \n",
            "=================================================================\n",
            "Total params: 5\n",
            "Trainable params: 2\n",
            "Non-trainable params: 3\n",
            "_________________________________________________________________\n"
          ]
        }
      ]
    },
    {
      "cell_type": "code",
      "metadata": {
        "colab": {
          "base_uri": "https://localhost:8080/"
        },
        "id": "BMVZ-66Dq4Ih",
        "outputId": "55922b68-3ae6-41ca-f740-122f5208df19"
      },
      "source": [
        "temp_linear_model.predict(temp[1:6])"
      ],
      "execution_count": 76,
      "outputs": [
        {
          "output_type": "execute_result",
          "data": {
            "text/plain": [
              "array([[ 0.23330276],\n",
              "       [ 0.09190711],\n",
              "       [ 0.62214077],\n",
              "       [-0.5443733 ],\n",
              "       [-0.40297765]], dtype=float32)"
            ]
          },
          "metadata": {},
          "execution_count": 76
        }
      ]
    },
    {
      "cell_type": "code",
      "metadata": {
        "id": "91racTGErB5B"
      },
      "source": [
        "temp_linear_model.compile(\n",
        "    optimizer = tf.optimizers.Adam(learning_rate = 0.1),\n",
        "    loss='mean_absolute_error')"
      ],
      "execution_count": 129,
      "outputs": []
    },
    {
      "cell_type": "code",
      "metadata": {
        "colab": {
          "base_uri": "https://localhost:8080/"
        },
        "id": "W0WNPwtmrYMi",
        "outputId": "14d029d3-0c45-4be1-cdfa-711342512853"
      },
      "source": [
        "%%time\n",
        "history = temp_linear_model.fit(\n",
        "    train_features['temp'], train_label,\n",
        "    epochs = 1000,\n",
        "    # suppress logging\n",
        "    verbose = 0,\n",
        "    # Calculate validation results on 10% of the training data\n",
        "    validation_split = 0.3)"
      ],
      "execution_count": 130,
      "outputs": [
        {
          "output_type": "stream",
          "name": "stdout",
          "text": [
            "CPU times: user 16.9 s, sys: 725 ms, total: 17.6 s\n",
            "Wall time: 16.9 s\n"
          ]
        }
      ]
    },
    {
      "cell_type": "code",
      "metadata": {
        "colab": {
          "base_uri": "https://localhost:8080/",
          "height": 357
        },
        "id": "J-23WlzdrkFY",
        "outputId": "45e9a9f8-6569-4c24-adb6-77bd10329aa6"
      },
      "source": [
        "hist = pd.DataFrame(history.history)\n",
        "hist['epoch'] = history.epoch\n",
        "hist.tail(10)"
      ],
      "execution_count": 131,
      "outputs": [
        {
          "output_type": "execute_result",
          "data": {
            "text/html": [
              "<div>\n",
              "<style scoped>\n",
              "    .dataframe tbody tr th:only-of-type {\n",
              "        vertical-align: middle;\n",
              "    }\n",
              "\n",
              "    .dataframe tbody tr th {\n",
              "        vertical-align: top;\n",
              "    }\n",
              "\n",
              "    .dataframe thead th {\n",
              "        text-align: right;\n",
              "    }\n",
              "</style>\n",
              "<table border=\"1\" class=\"dataframe\">\n",
              "  <thead>\n",
              "    <tr style=\"text-align: right;\">\n",
              "      <th></th>\n",
              "      <th>loss</th>\n",
              "      <th>val_loss</th>\n",
              "      <th>epoch</th>\n",
              "    </tr>\n",
              "  </thead>\n",
              "  <tbody>\n",
              "    <tr>\n",
              "      <th>990</th>\n",
              "      <td>26.597683</td>\n",
              "      <td>50.937012</td>\n",
              "      <td>990</td>\n",
              "    </tr>\n",
              "    <tr>\n",
              "      <th>991</th>\n",
              "      <td>26.594603</td>\n",
              "      <td>50.928791</td>\n",
              "      <td>991</td>\n",
              "    </tr>\n",
              "    <tr>\n",
              "      <th>992</th>\n",
              "      <td>26.583811</td>\n",
              "      <td>50.924759</td>\n",
              "      <td>992</td>\n",
              "    </tr>\n",
              "    <tr>\n",
              "      <th>993</th>\n",
              "      <td>26.577326</td>\n",
              "      <td>50.924503</td>\n",
              "      <td>993</td>\n",
              "    </tr>\n",
              "    <tr>\n",
              "      <th>994</th>\n",
              "      <td>26.570726</td>\n",
              "      <td>50.927647</td>\n",
              "      <td>994</td>\n",
              "    </tr>\n",
              "    <tr>\n",
              "      <th>995</th>\n",
              "      <td>26.564024</td>\n",
              "      <td>50.933865</td>\n",
              "      <td>995</td>\n",
              "    </tr>\n",
              "    <tr>\n",
              "      <th>996</th>\n",
              "      <td>26.557232</td>\n",
              "      <td>50.942841</td>\n",
              "      <td>996</td>\n",
              "    </tr>\n",
              "    <tr>\n",
              "      <th>997</th>\n",
              "      <td>26.550354</td>\n",
              "      <td>50.954311</td>\n",
              "      <td>997</td>\n",
              "    </tr>\n",
              "    <tr>\n",
              "      <th>998</th>\n",
              "      <td>26.543398</td>\n",
              "      <td>50.968021</td>\n",
              "      <td>998</td>\n",
              "    </tr>\n",
              "    <tr>\n",
              "      <th>999</th>\n",
              "      <td>26.536375</td>\n",
              "      <td>50.983761</td>\n",
              "      <td>999</td>\n",
              "    </tr>\n",
              "  </tbody>\n",
              "</table>\n",
              "</div>"
            ],
            "text/plain": [
              "          loss   val_loss  epoch\n",
              "990  26.597683  50.937012    990\n",
              "991  26.594603  50.928791    991\n",
              "992  26.583811  50.924759    992\n",
              "993  26.577326  50.924503    993\n",
              "994  26.570726  50.927647    994\n",
              "995  26.564024  50.933865    995\n",
              "996  26.557232  50.942841    996\n",
              "997  26.550354  50.954311    997\n",
              "998  26.543398  50.968021    998\n",
              "999  26.536375  50.983761    999"
            ]
          },
          "metadata": {},
          "execution_count": 131
        }
      ]
    },
    {
      "cell_type": "code",
      "metadata": {
        "id": "LcLpnGbPro65"
      },
      "source": [
        "test_results = {}\n",
        "\n",
        "test_results['temp_linear_model'] = temp_linear_model.evaluate(\n",
        "    test_features['temp'],\n",
        "    test_label, verbose=0)"
      ],
      "execution_count": 132,
      "outputs": []
    },
    {
      "cell_type": "code",
      "metadata": {
        "colab": {
          "base_uri": "https://localhost:8080/"
        },
        "id": "jew2rxuGt6eb",
        "outputId": "06609cd2-ce29-40f6-8c12-288836a8f2bb"
      },
      "source": [
        "test_results['temp_linear_model']"
      ],
      "execution_count": 133,
      "outputs": [
        {
          "output_type": "execute_result",
          "data": {
            "text/plain": [
              "33.86562728881836"
            ]
          },
          "metadata": {},
          "execution_count": 133
        }
      ]
    },
    {
      "cell_type": "code",
      "metadata": {
        "id": "8xWyZXymua_L"
      },
      "source": [
        "y = temp_linear_model.predict(test_features['temp'])"
      ],
      "execution_count": 134,
      "outputs": []
    },
    {
      "cell_type": "code",
      "metadata": {
        "colab": {
          "base_uri": "https://localhost:8080/"
        },
        "id": "PquxWtMLuurd",
        "outputId": "0cecb45b-84ee-4070-a1f9-9d6e18b8e777"
      },
      "source": [
        "y"
      ],
      "execution_count": 135,
      "outputs": [
        {
          "output_type": "execute_result",
          "data": {
            "text/plain": [
              "array([[56.15092],\n",
              "       [64.77405],\n",
              "       [62.8578 ],\n",
              "       [70.04374],\n",
              "       [54.23467]], dtype=float32)"
            ]
          },
          "metadata": {},
          "execution_count": 135
        }
      ]
    },
    {
      "cell_type": "code",
      "metadata": {
        "colab": {
          "base_uri": "https://localhost:8080/"
        },
        "id": "sbz-65kn2Qae",
        "outputId": "04d0074a-89d0-47c7-e68a-a3b32072de4a"
      },
      "source": [
        "norm_test_features = np.linalg.norm(test_features['temp'])\n",
        "norm_train_features = np.linalg.norm(train_features['temp'])\n",
        "# norm_test_label = np.linalg.norm(test_label['temp'])\n",
        "norm_train_label = np.linalg.norm(train_label['apples'])\n",
        "\n",
        "\n",
        "normal_array_test_features = test_features['temp']/norm_test_features\n",
        "normal_array_train_features = train_features['temp']/norm_train_features\n",
        "normal_array_train_label = train_label['apples']/norm_train_label\n",
        "\n",
        "print(normal_array_train_features)\n",
        "print(normal_array_test_features)\n",
        "print(normal_array_train_label)\n"
      ],
      "execution_count": 136,
      "outputs": [
        {
          "output_type": "stream",
          "name": "stdout",
          "text": [
            "0    0.270764\n",
            "1    0.337528\n",
            "2    0.322692\n",
            "3    0.378328\n",
            "4    0.255928\n",
            "5    0.270764\n",
            "6    0.337528\n",
            "7    0.322692\n",
            "8    0.378328\n",
            "9    0.255928\n",
            "Name: temp, dtype: float32\n",
            "10    0.382919\n",
            "11    0.477337\n",
            "12    0.456355\n",
            "13    0.535037\n",
            "14    0.361937\n",
            "Name: temp, dtype: float32\n",
            "0    0.211808\n",
            "1    0.306366\n",
            "2    0.450093\n",
            "3    0.083210\n",
            "4    0.389576\n",
            "5    0.211808\n",
            "6    0.306366\n",
            "7    0.450093\n",
            "8    0.083210\n",
            "9    0.389576\n",
            "Name: apples, dtype: float32\n"
          ]
        }
      ]
    },
    {
      "cell_type": "code",
      "metadata": {
        "colab": {
          "base_uri": "https://localhost:8080/",
          "height": 279
        },
        "id": "vHWzmoADr_oh",
        "outputId": "d8bab030-8ca4-4cd7-d403-048c4974c46d"
      },
      "source": [
        "# def plot_Apples(x, y):\n",
        "#   plt.scatter(normal_array_train_features, normal_array_train_label, label = 'Data')\n",
        "#   plt.plot(x, y, color='g', label = 'Predictions')\n",
        "#   plt.xlabel('Temp')\n",
        "#   plt.ylabel('Apples')\n",
        "#   plt.legend()\n",
        "\n",
        "def plot_Apples(x, y):\n",
        "  plt.scatter(train_features['temp'], train_label['apples'], label = 'Data')\n",
        "  plt.plot(x, y, color='g', label = 'Predictions')\n",
        "  plt.xlabel('Temp')\n",
        "  plt.ylabel('Apples')\n",
        "  plt.legend()\n",
        "  \n",
        "plot_Apples(test_features['temp'], y)"
      ],
      "execution_count": 137,
      "outputs": [
        {
          "output_type": "display_data",
          "data": {
            "image/png": "[encoded data removed]",
            "text/plain": [
              "<Figure size 432x288 with 1 Axes>"
            ]
          },
          "metadata": {
            "needs_background": "light"
          }
        }
      ]
    },
    {
      "cell_type": "markdown",
      "metadata": {
        "id": "Sqd6DAfev7Xv"
      },
      "source": [
        "NOW FOR MANY INPUTS"
      ]
    },
    {
      "cell_type": "code",
      "metadata": {
        "id": "FZftVh8HtswY"
      },
      "source": [
        "normalizer = preprocessing.Normalization(axis = -1)"
      ],
      "execution_count": 138,
      "outputs": []
    },
    {
      "cell_type": "code",
      "metadata": {
        "id": "-Ek_E638wA5O"
      },
      "source": [
        "normalizer.adapt(np.array(train_features))"
      ],
      "execution_count": 139,
      "outputs": []
    },
    {
      "cell_type": "code",
      "metadata": {
        "id": "d9PcpyyBwE9w"
      },
      "source": [
        "linear_model = tf.keras.Sequential([\n",
        "    normalizer,\n",
        "    layers.Dense(units = 1)\n",
        "])"
      ],
      "execution_count": 140,
      "outputs": []
    },
    {
      "cell_type": "code",
      "metadata": {
        "colab": {
          "base_uri": "https://localhost:8080/"
        },
        "id": "EY--NSPzwUyu",
        "outputId": "fac754dc-a04c-4923-ddd5-ebe7d0f0a995"
      },
      "source": [
        "linear_model.predict(train_features[:9])"
      ],
      "execution_count": 141,
      "outputs": [
        {
          "output_type": "execute_result",
          "data": {
            "text/plain": [
              "array([[-0.79216087],\n",
              "       [ 0.77153534],\n",
              "       [-0.5328779 ],\n",
              "       [ 0.5154616 ],\n",
              "       [ 0.03804104],\n",
              "       [-0.79216087],\n",
              "       [ 0.77153534],\n",
              "       [-0.5328779 ],\n",
              "       [ 0.5154616 ]], dtype=float32)"
            ]
          },
          "metadata": {},
          "execution_count": 141
        }
      ]
    },
    {
      "cell_type": "code",
      "metadata": {
        "id": "T25VifZbxUne"
      },
      "source": [
        "linear_model.compile(\n",
        "    optimizer=tf.optimizers.Adam(learning_rate = 0.1),\n",
        "    loss='mean_absolute_error')\n"
      ],
      "execution_count": 142,
      "outputs": []
    },
    {
      "cell_type": "code",
      "metadata": {
        "colab": {
          "base_uri": "https://localhost:8080/"
        },
        "id": "Lg1onlnw_l68",
        "outputId": "7ff72391-f8e6-425c-b42c-f98b2ca88a69"
      },
      "source": [
        "%%time\n",
        "history = linear_model.fit(\n",
        "    train_features, train_label, \n",
        "    epochs = 1000,\n",
        "    # suppress logging\n",
        "    verbose=0,\n",
        "    # Calculate validation results on 20% of the training data\n",
        "    validation_split = 0.2)"
      ],
      "execution_count": 143,
      "outputs": [
        {
          "output_type": "stream",
          "name": "stdout",
          "text": [
            "CPU times: user 17.3 s, sys: 737 ms, total: 18 s\n",
            "Wall time: 17.1 s\n"
          ]
        }
      ]
    },
    {
      "cell_type": "code",
      "metadata": {
        "colab": {
          "base_uri": "https://localhost:8080/"
        },
        "id": "0XKNe0QUxdGQ",
        "outputId": "529725b0-e17c-4dc7-928d-4ece9d1522de"
      },
      "source": [
        "test_results['linear_model'] = linear_model.evaluate(\n",
        "    test_features, test_label, verbose = 0)\n",
        "\n",
        "test_results['linear_model']"
      ],
      "execution_count": 145,
      "outputs": [
        {
          "output_type": "execute_result",
          "data": {
            "text/plain": [
              "0.861541748046875"
            ]
          },
          "metadata": {},
          "execution_count": 145
        }
      ]
    },
    {
      "cell_type": "code",
      "metadata": {
        "id": "gF4Eh4sy_yXY"
      },
      "source": [
        ""
      ],
      "execution_count": null,
      "outputs": []
    }
  ]
}