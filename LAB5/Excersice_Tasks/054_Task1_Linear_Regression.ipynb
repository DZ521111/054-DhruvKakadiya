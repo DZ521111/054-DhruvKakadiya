{
  "nbformat": 4,
  "nbformat_minor": 0,
  "metadata": {
    "colab": {
      "name": "054_Task1_Linear_Regression.ipynb",
      "provenance": []
    },
    "kernelspec": {
      "name": "python3",
      "display_name": "Python 3"
    },
    "language_info": {
      "name": "python"
    }
  },
  "cells": [
    {
      "cell_type": "code",
      "metadata": {
        "colab": {
          "base_uri": "https://localhost:8080/",
          "height": 35
        },
        "id": "cM67-PaTEMv-",
        "outputId": "abdf76f1-5b78-44cc-a67e-4eaa8f41e4a4"
      },
      "source": [
        "'''\n",
        "Author: Dhruv B Kakadiya\n",
        "\n",
        "'''\n"
      ],
      "execution_count": 1,
      "outputs": [
        {
          "output_type": "execute_result",
          "data": {
            "application/vnd.google.colaboratory.intrinsic+json": {
              "type": "string"
            },
            "text/plain": [
              "'\\nAuthor: Dhruv B Kakadiya\\n\\n'"
            ]
          },
          "metadata": {},
          "execution_count": 1
        }
      ]
    },
    {
      "cell_type": "code",
      "metadata": {
        "colab": {
          "base_uri": "https://localhost:8080/"
        },
        "id": "X8qjf0lkEvJQ",
        "outputId": "f00f0187-5e24-4dba-a080-76e1e7951857"
      },
      "source": [
        "from google.colab import drive\n",
        "drive.mount(\"/content/drive\")"
      ],
      "execution_count": 2,
      "outputs": [
        {
          "output_type": "stream",
          "name": "stdout",
          "text": [
            "Mounted at /content/drive\n"
          ]
        }
      ]
    },
    {
      "cell_type": "code",
      "metadata": {
        "id": "3hb9Xt-GEx5P"
      },
      "source": [
        "import numpy as np"
      ],
      "execution_count": 3,
      "outputs": []
    },
    {
      "cell_type": "code",
      "metadata": {
        "id": "dAVzTEutVkmi"
      },
      "source": [
        "# Input (temp, rainfall, humidity)\n",
        "inputs = np.array([[73, 67, 43], [91, 88, 64], [87, 134, 58], [102, 43, 37], [69, 96, 70], [73, 67, 43], [91, 88, 64], [87, 134, 58], [102, 43, 37], [69, 96, 70], [73, 67, 43], [91, 88, 64], [87, 134, 58], [102, 43, 37], [69, 96, 70]], dtype='float32')\n",
        "# Targets (apples)\n",
        "# only for apples\n",
        "targets = np.array([[56], [81], [119], [22], [103], \n",
        "                    [56], [81], [119], [22], [103], \n",
        "                    [56], [81], [119], [22], [103]], dtype='float32')"
      ],
      "execution_count": 17,
      "outputs": []
    },
    {
      "cell_type": "code",
      "metadata": {
        "colab": {
          "base_uri": "https://localhost:8080/"
        },
        "id": "tBGDucS2Vmbn",
        "outputId": "9a943d37-e024-4345-8d72-0d20f1534304"
      },
      "source": [
        "mu = np.mean(inputs, 0)\n",
        "sigma = np.std(inputs, 0)\n",
        "#normalizing the input\n",
        "X = (inputs-mu) / sigma\n",
        "X = np.hstack((np.ones((targets.size,1)),X))\n",
        "print(X.shape)"
      ],
      "execution_count": 18,
      "outputs": [
        {
          "output_type": "stream",
          "name": "stdout",
          "text": [
            "(15, 4)\n"
          ]
        }
      ]
    },
    {
      "cell_type": "markdown",
      "metadata": {
        "id": "pFZ4HhHIXzly"
      },
      "source": [
        "Linear Regression Model (from scratch)\n",
        "\n",
        "The weights and biases can also be represented as matrices, initialized with random values. The first row of w and the first element of b are use to predict the first target variable i.e. yield for apples, and similarly the second for oranges."
      ]
    },
    {
      "cell_type": "code",
      "metadata": {
        "colab": {
          "base_uri": "https://localhost:8080/"
        },
        "id": "z-i6eF15VqPv",
        "outputId": "301a2417-8c5c-45b7-cd26-9a1b2f383b7f"
      },
      "source": [
        "# Weights and biases\n",
        "rg = np.random.default_rng(12)\n",
        "w = rg.random((1, 4))\n",
        "print(w)"
      ],
      "execution_count": 19,
      "outputs": [
        {
          "output_type": "stream",
          "name": "stdout",
          "text": [
            "[[0.25082446 0.94675294 0.18932038 0.17929141]]\n"
          ]
        }
      ]
    },
    {
      "cell_type": "code",
      "metadata": {
        "id": "2i7Dg_lJVsMo"
      },
      "source": [
        "# MSE loss function\n",
        "def mse(t1, t2):\n",
        "    diff = t1 - t2\n",
        "    return np.sum(diff * diff) / diff.size"
      ],
      "execution_count": 20,
      "outputs": []
    },
    {
      "cell_type": "code",
      "metadata": {
        "colab": {
          "base_uri": "https://localhost:8080/"
        },
        "id": "4P9sipdeVu2Q",
        "outputId": "13ad9e9d-c9b4-4d0e-e085-f1a25cc40829"
      },
      "source": [
        "# Define the model\n",
        "def model(x,w):\n",
        "    return x @ w.T\n",
        "\n",
        "# Compute error\n",
        "preds = model(X,w)\n",
        "cost_initial = mse(preds, targets)\n",
        "print(\"before regression cost is : \", cost_initial)"
      ],
      "execution_count": 23,
      "outputs": [
        {
          "output_type": "stream",
          "name": "stdout",
          "text": [
            "before regression cost is :  6961.124339563164\n"
          ]
        }
      ]
    },
    {
      "cell_type": "code",
      "metadata": {
        "id": "H4x7cKoBV4qR"
      },
      "source": [
        "def gradient_descent(X, y, w, learning_rate, n_iters):\n",
        "    history = np.zeros((n_iters, 1))\n",
        "    for i in range(n_iters):\n",
        "        h = model(X, w)\n",
        "        diff = h - y\n",
        "        delta = (learning_rate / targets.size) * (X.T@diff)\n",
        "        new_w = w - delta.T\n",
        "        w = new_w\n",
        "        history[i] = mse(h, y)\n",
        "    return (history, w)"
      ],
      "execution_count": 26,
      "outputs": []
    },
    {
      "cell_type": "code",
      "metadata": {
        "colab": {
          "base_uri": "https://localhost:8080/"
        },
        "id": "alfGK4DDWFFo",
        "outputId": "5caf046a-ea01-4694-e6fe-53cfbbb94d01"
      },
      "source": [
        "import matplotlib.pyplot as plt\n",
        "n_iters = 200\n",
        "learning_rate = 0.01\n",
        "\n",
        "initial_cost = mse(model(X, w),targets)\n",
        "\n",
        "print(\"Initial cost is: \", initial_cost, \"\\n\")\n",
        "\n",
        "(history, optimal_params) = gradient_descent(X, targets, w, learning_rate, n_iters)\n",
        "\n",
        "print(\"Optimal parameters are: \\n\", optimal_params, \"\\n\")\n",
        "\n",
        "print(\"Final cost is: \", history[-1])"
      ],
      "execution_count": 27,
      "outputs": [
        {
          "output_type": "stream",
          "name": "stdout",
          "text": [
            "Initial cost is:  6961.124339563164 \n",
            "\n",
            "Optimal parameters are: \n",
            " [[66.02435426 -5.02777326 20.51719239 12.68658774]] \n",
            "\n",
            "Final cost is:  [121.48701344]\n"
          ]
        }
      ]
    },
    {
      "cell_type": "markdown",
      "metadata": {
        "id": "TaC_aMBTWa7J"
      },
      "source": [
        "Adjust Weights using Gradints"
      ]
    },
    {
      "cell_type": "code",
      "metadata": {
        "colab": {
          "base_uri": "https://localhost:8080/",
          "height": 295
        },
        "id": "ej4gzOMdWdJ4",
        "outputId": "304570e6-ee83-482c-f4b8-4bd7df0304ef"
      },
      "source": [
        "import matplotlib.pyplot as plt\n",
        "\n",
        "\n",
        "plt.plot(range(len(history)), history, 'g')\n",
        "\n",
        "plt.title(\"Convergence Graph of Cost Function\")\n",
        "plt.xlabel(\"Number of Iterations\")\n",
        "plt.ylabel(\"Cost\")\n",
        "plt.show()"
      ],
      "execution_count": 30,
      "outputs": [
        {
          "output_type": "display_data",
          "data": {
            "image/png": "[encoded data removed]",
            "text/plain": [
              "<Figure size 432x288 with 1 Axes>"
            ]
          },
          "metadata": {
            "needs_background": "light"
          }
        }
      ]
    },
    {
      "cell_type": "code",
      "metadata": {
        "colab": {
          "base_uri": "https://localhost:8080/"
        },
        "id": "6joEDqO9Wg0X",
        "outputId": "3cd899d6-bbde-4545-eaa9-016040d1b452"
      },
      "source": [
        "# Calculate error\n",
        "preds = model(X, optimal_params)\n",
        "cost_final = mse(preds, targets)\n",
        "# Print predictions\n",
        "print(\"Prediction:\\n\",preds)\n",
        "# Comparing predicted with targets\n",
        "print(\"Targets:\\n\", targets)"
      ],
      "execution_count": 31,
      "outputs": [
        {
          "output_type": "stream",
          "name": "stdout",
          "text": [
            "Prediction:\n",
            " [[ 46.64832016]\n",
            " [ 74.63682394]\n",
            " [101.27252623]\n",
            " [ 12.2643147 ]\n",
            " [ 95.29978595]\n",
            " [ 46.64832016]\n",
            " [ 74.63682394]\n",
            " [101.27252623]\n",
            " [ 12.2643147 ]\n",
            " [ 95.29978595]\n",
            " [ 46.64832016]\n",
            " [ 74.63682394]\n",
            " [101.27252623]\n",
            " [ 12.2643147 ]\n",
            " [ 95.29978595]]\n",
            "Targets:\n",
            " [[ 56.]\n",
            " [ 81.]\n",
            " [119.]\n",
            " [ 22.]\n",
            " [103.]\n",
            " [ 56.]\n",
            " [ 81.]\n",
            " [119.]\n",
            " [ 22.]\n",
            " [103.]\n",
            " [ 56.]\n",
            " [ 81.]\n",
            " [119.]\n",
            " [ 22.]\n",
            " [103.]]\n"
          ]
        }
      ]
    },
    {
      "cell_type": "code",
      "metadata": {
        "colab": {
          "base_uri": "https://localhost:8080/"
        },
        "id": "OQbG_aRXWinR",
        "outputId": "3f99876e-be8e-4215-83f5-db5b5af9c8d2"
      },
      "source": [
        "print(\"Cost after linear regression: \", cost_final)\n",
        "print(\"Cost reduction : {} %\".format(((cost_initial- cost_final) / cost_initial) * 100))"
      ],
      "execution_count": 32,
      "outputs": [
        {
          "output_type": "stream",
          "name": "stdout",
          "text": [
            "Cost after linear regression:  119.25682332821566\n",
            "Cost reduction : 98.28681664755756 %\n"
          ]
        }
      ]
    },
    {
      "cell_type": "code",
      "metadata": {
        "id": "ckV4Md2dZ5s3"
      },
      "source": [
        ""
      ],
      "execution_count": null,
      "outputs": []
    }
  ]
}