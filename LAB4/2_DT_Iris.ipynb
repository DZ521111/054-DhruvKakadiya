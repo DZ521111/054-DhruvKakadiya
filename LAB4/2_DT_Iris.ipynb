{
 "cells": [
  {
   "cell_type": "code",
   "execution_count": 1,
   "metadata": {
    "colab": {},
    "colab_type": "code",
    "executionInfo": {
     "elapsed": 1603,
     "status": "ok",
     "timestamp": 1596080371727,
     "user": {
      "displayName": "Prof. Hariom Pandya",
      "photoUrl": "https://lh3.googleusercontent.com/a-/AOh14Ggt3sg6X_951s0boD3SSJvqRng4AQaC3MhTBtGQ9Q=s64",
      "userId": "16159546014304882594"
     },
     "user_tz": -330
    },
    "id": "19-VWLo5dRM_"
   },
   "outputs": [],
   "source": [
    "#Import scikit-learn dataset library\n",
    "from sklearn import datasets\n",
    "from sklearn.tree import DecisionTreeClassifier\n",
    "import pandas as pd\n",
    "import numpy as np\n",
    "\n",
    "#Load dataset\n",
    "iris = datasets.load_iris()"
   ]
  },
  {
   "cell_type": "code",
   "execution_count": 2,
   "metadata": {
    "colab": {},
    "colab_type": "code",
    "executionInfo": {
     "elapsed": 1571,
     "status": "ok",
     "timestamp": 1596080371731,
     "user": {
      "displayName": "Prof. Hariom Pandya",
      "photoUrl": "https://lh3.googleusercontent.com/a-/AOh14Ggt3sg6X_951s0boD3SSJvqRng4AQaC3MhTBtGQ9Q=s64",
      "userId": "16159546014304882594"
     },
     "user_tz": -330
    },
    "id": "STpVNWyrdRNb"
   },
   "outputs": [],
   "source": [
    "# print the names of the 13 features\n",
    "\n",
    "\n",
    "# print the label type of wine(class_0, class_1, class_2)\n",
    "\n",
    "\n",
    "# print data(feature)shape\n"
   ]
  },
  {
   "cell_type": "code",
   "execution_count": 3,
   "metadata": {
    "colab": {},
    "colab_type": "code",
    "executionInfo": {
     "elapsed": 1563,
     "status": "ok",
     "timestamp": 1596080371735,
     "user": {
      "displayName": "Prof. Hariom Pandya",
      "photoUrl": "https://lh3.googleusercontent.com/a-/AOh14Ggt3sg6X_951s0boD3SSJvqRng4AQaC3MhTBtGQ9Q=s64",
      "userId": "16159546014304882594"
     },
     "user_tz": -330
    },
    "id": "SNoEzna3dRN2"
   },
   "outputs": [],
   "source": [
    "#import the necessary module\n",
    "from sklearn.model_selection import train_test_split\n",
    "\n",
    "#split data set into train and test sets\n"
   ]
  },
  {
   "cell_type": "code",
   "execution_count": 4,
   "metadata": {
    "colab": {},
    "colab_type": "code",
    "executionInfo": {
     "elapsed": 1538,
     "status": "ok",
     "timestamp": 1596080371738,
     "user": {
      "displayName": "Prof. Hariom Pandya",
      "photoUrl": "https://lh3.googleusercontent.com/a-/AOh14Ggt3sg6X_951s0boD3SSJvqRng4AQaC3MhTBtGQ9Q=s64",
      "userId": "16159546014304882594"
     },
     "user_tz": -330
    },
    "id": "CRct6OrjdROI"
   },
   "outputs": [],
   "source": [
    "#Create a Decision Tree Classifier (using Gini)\n",
    "\n",
    "\n",
    "#Train the model using the training sets\n"
   ]
  },
  {
   "cell_type": "code",
   "execution_count": 5,
   "metadata": {
    "colab": {},
    "colab_type": "code",
    "executionInfo": {
     "elapsed": 1516,
     "status": "ok",
     "timestamp": 1596080371741,
     "user": {
      "displayName": "Prof. Hariom Pandya",
      "photoUrl": "https://lh3.googleusercontent.com/a-/AOh14Ggt3sg6X_951s0boD3SSJvqRng4AQaC3MhTBtGQ9Q=s64",
      "userId": "16159546014304882594"
     },
     "user_tz": -330
    },
    "id": "EUmpqOTcdROY"
   },
   "outputs": [],
   "source": [
    "# Predict the classes of test data\n",
    "\n",
    "\n",
    "#print(test_pred.dtype)\n",
    "from sklearn import metrics\n"
   ]
  },
  {
   "cell_type": "code",
   "execution_count": 6,
   "metadata": {
    "colab": {},
    "colab_type": "code",
    "executionInfo": {
     "elapsed": 1499,
     "status": "ok",
     "timestamp": 1596080371744,
     "user": {
      "displayName": "Prof. Hariom Pandya",
      "photoUrl": "https://lh3.googleusercontent.com/a-/AOh14Ggt3sg6X_951s0boD3SSJvqRng4AQaC3MhTBtGQ9Q=s64",
      "userId": "16159546014304882594"
     },
     "user_tz": -330
    },
    "id": "ygJOfDiAdROs"
   },
   "outputs": [],
   "source": [
    "# Model Accuracy, how often is the classifier correct?\n"
   ]
  },
  {
   "cell_type": "code",
   "execution_count": 7,
   "metadata": {
    "colab": {},
    "colab_type": "code",
    "executionInfo": {
     "elapsed": 1480,
     "status": "ok",
     "timestamp": 1596080371745,
     "user": {
      "displayName": "Prof. Hariom Pandya",
      "photoUrl": "https://lh3.googleusercontent.com/a-/AOh14Ggt3sg6X_951s0boD3SSJvqRng4AQaC3MhTBtGQ9Q=s64",
      "userId": "16159546014304882594"
     },
     "user_tz": -330
    },
    "id": "iCM3TyCqdRO7"
   },
   "outputs": [],
   "source": [
    "from sklearn.tree import export_graphviz\n",
    "#export_graphviz(clf,out_file='iris_tree.dot',feature_names=list(iris.feature_names),\n",
    " #               class_names=list(iris.target_names), filled=True)\n",
    "\n",
    "# Convert to png\n",
    "#from subprocess import call\n",
    "#call(['dot', '-Tpng', 'iris_tree.dot', '-o', 'iris_tree.png', '-Gdpi=600'])"
   ]
  },
  {
   "cell_type": "code",
   "execution_count": 8,
   "metadata": {
    "colab": {},
    "colab_type": "code",
    "executionInfo": {
     "elapsed": 2046,
     "status": "ok",
     "timestamp": 1596080372335,
     "user": {
      "displayName": "Prof. Hariom Pandya",
      "photoUrl": "https://lh3.googleusercontent.com/a-/AOh14Ggt3sg6X_951s0boD3SSJvqRng4AQaC3MhTBtGQ9Q=s64",
      "userId": "16159546014304882594"
     },
     "user_tz": -330
    },
    "id": "L40ny3qldRPJ"
   },
   "outputs": [],
   "source": [
    "# Display in python\n",
    "import matplotlib.pyplot as plt\n",
    "#plt.figure(figsize = (14, 18))\n",
    "#plt.imshow(plt.imread('iris_tree.png'))\n",
    "#plt.axis('off')\n",
    "#plt.show()"
   ]
  },
  {
   "cell_type": "code",
   "execution_count": 8,
   "metadata": {
    "colab": {},
    "colab_type": "code",
    "executionInfo": {
     "elapsed": 2042,
     "status": "ok",
     "timestamp": 1596080372340,
     "user": {
      "displayName": "Prof. Hariom Pandya",
      "photoUrl": "https://lh3.googleusercontent.com/a-/AOh14Ggt3sg6X_951s0boD3SSJvqRng4AQaC3MhTBtGQ9Q=s64",
      "userId": "16159546014304882594"
     },
     "user_tz": -330
    },
    "id": "4Wr0rlC6dRPV"
   },
   "outputs": [],
   "source": []
  },
  {
   "cell_type": "markdown",
   "metadata": {
    "colab_type": "text",
    "id": "nx-QEB7zfUGU"
   },
   "source": [
    "**Exercise:**\n",
    "\n",
    "**1) 1<=Rollnumber<=25:**\n",
    "  #Task 1: Try the algo on Same Whether dataset - OneHotEncoding of features: and Train test Division 70%-30%\n",
    "\n",
    "  #Task 2: Apply algorithm on wine dataset - LabelEncoding of features: and Train test Division 80%-20%\n",
    "\n",
    "**2) 26<=Rollnumber<=50:**\n",
    "  #Task 1: Try the algo on Same Whether dataset - LabelEncoding of features: and Train test Division 80%-20% with Gini Index as attribute selection measure\n",
    "\n",
    "  #Task 2: Apply algorithm on digits dataset - One Hot Encoding of features: and Train test Division 65%-35%\n",
    "\n",
    "**3) 51<=Rollnumber<=75:**\n",
    "  #Task 1: Try the algo on Same Whether dataset- LabelEncoding of features: and Train test Division 90%-10%\n",
    "\n",
    "   #Task 2: Apply algorithm on breast cancer wisconsin dataset - One Hot Encoding of features: and Train test Division 60%-40%\n",
    "\n",
    "**4) 76<=Rollnumber<=100:**\n",
    "  #Task 1: Try the algo on Same Whether dataset - OneHotEncoding of features: and Train test Division 75%-25% \n",
    "\n",
    " #Task 2: Apply algorithm on digits dataset - LabelEncoding of features: and Train test Division 80%-20%\n",
    "\n",
    "**5) 101<=Rollnumber<=125:**\n",
    "  #Task 1: Try the algo on Same Whether dataset - OneHotEncoding of features:and Train test Division 85%-15% and Gini Index as attribute selection measure\n",
    "\n",
    "   #Task 2: Apply algorithm on breast cancer wisconsin dataset - One Hot Encoding of features: and Train test Division 50%-50%\n",
    "\n",
    "**6) 126<=Rollnumber + All with No RollNumbers:**\n",
    "  #Task 1: Try the algo on Same Whether dataset - LabelEncoding of features:and Train test Division 95%-5%\n",
    "\n",
    "  #Task 2: Apply algorithm on wine dataset - LabelEncoding of features: and Train test Division 66%-34%\n",
    "  \n",
    "\n",
    "\n",
    "**Instruction for Task-1 & 2:**\n",
    "\n",
    "i) Set Random state and maximum allowed leaf of model equals to your roll number (or last 2 digit of your id -if you don't have roll number)\n",
    "\n",
    "\n",
    "**Questions: For Task - 1**\n",
    "\n",
    "(1) What will be the value of Play, if Outlook is ’Rainy’, Temperature is ’Mild’, Humidity =’Normal’, and Wind = ’False’?\n",
    "\n",
    "(2) What will be the value of Play, if Outlook is ’Sunny’, Temeprature is ’Cool’, Humidity =’High’, and Wind = ’True’?\n",
    "\n",
    "(3) Accuracy , precision and recall of both Models?\n"
   ]
  }
 ],
 "metadata": {
  "colab": {
   "name": "2_DT_Iris.ipynb",
   "provenance": []
  },
  "kernelspec": {
   "display_name": "Python 3",
   "language": "python",
   "name": "python3"
  },
  "language_info": {
   "codemirror_mode": {
    "name": "ipython",
    "version": 3
   },
   "file_extension": ".py",
   "mimetype": "text/x-python",
   "name": "python",
   "nbconvert_exporter": "python",
   "pygments_lexer": "ipython3",
   "version": "3.8.10"
  }
 },
 "nbformat": 4,
 "nbformat_minor": 1
}
