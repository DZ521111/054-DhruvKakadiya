{
 "cells": [
  {
   "cell_type": "markdown",
   "source": [
    "**Aim: Implement Decsion Tree classifier**\n",
    "\n",
    "\n",
    "- Implement Decision Tree classifier using scikit learn library\n",
    "- Test the classifier for Weather dataset"
   ],
   "metadata": {
    "colab_type": "text",
    "id": "De7AICwsdTMR"
   }
  },
  {
   "cell_type": "markdown",
   "source": [
    "    Step 1: Import necessary libraries."
   ],
   "metadata": {
    "colab_type": "text",
    "id": "alhwH449dTMd"
   }
  },
  {
   "cell_type": "code",
   "execution_count": 7,
   "source": [
    "from sklearn import preprocessing\r\n",
    "from sklearn.tree import DecisionTreeClassifier"
   ],
   "outputs": [],
   "metadata": {
    "colab": {},
    "colab_type": "code",
    "executionInfo": {
     "elapsed": 1688,
     "status": "ok",
     "timestamp": 1596080279108,
     "user": {
      "displayName": "Prof. Hariom Pandya",
      "photoUrl": "https://lh3.googleusercontent.com/a-/AOh14Ggt3sg6X_951s0boD3SSJvqRng4AQaC3MhTBtGQ9Q=s64",
      "userId": "16159546014304882594"
     },
     "user_tz": -330
    },
    "id": "1CNH0GcydTMk"
   }
  },
  {
   "cell_type": "markdown",
   "source": [
    "    Step 2: Prepare dataset."
   ],
   "metadata": {
    "colab_type": "text",
    "id": "jw3TNFuOdTNH"
   }
  },
  {
   "cell_type": "code",
   "execution_count": 8,
   "source": [
    "#Predictor variables\r\n",
    "Outlook = ['Rainy', 'Rainy', 'Overcast', 'Sunny', 'Sunny', 'Sunny', 'Overcast',\r\n",
    "            'Rainy', 'Rainy', 'Sunny', 'Rainy','Overcast', 'Overcast', 'Sunny']\r\n",
    "Temperature = ['Hot', 'Hot', 'Hot', 'Mild', 'Cool', 'Cool', 'Cool',\r\n",
    "                'Mild', 'Cool', 'Mild', 'Mild', 'Mild', 'Hot', 'Mild']\r\n",
    "Humidity = ['High', 'High', 'High', 'High', 'Normal', 'Normal', 'Normal',\r\n",
    "            'High', 'Normal', 'Normal', 'Normal', 'High', 'Normal', 'High']\r\n",
    "Wind = ['False', 'True', 'False', 'False', 'False', 'True', 'True',\r\n",
    "            'False', 'False', 'False', 'True', 'True', 'False', 'True']\r\n",
    "\r\n",
    "#Class Label:\r\n",
    "Play = ['No', 'No', 'Yes', 'Yes', 'Yes', 'No', 'Yes', 'No',\r\n",
    "'Yes', 'Yes', 'Yes', 'Yes', 'Yes', 'No']"
   ],
   "outputs": [],
   "metadata": {
    "colab": {},
    "colab_type": "code",
    "executionInfo": {
     "elapsed": 1672,
     "status": "ok",
     "timestamp": 1596080279112,
     "user": {
      "displayName": "Prof. Hariom Pandya",
      "photoUrl": "https://lh3.googleusercontent.com/a-/AOh14Ggt3sg6X_951s0boD3SSJvqRng4AQaC3MhTBtGQ9Q=s64",
      "userId": "16159546014304882594"
     },
     "user_tz": -330
    },
    "id": "8FYtofzfdTNM"
   }
  },
  {
   "cell_type": "markdown",
   "source": [
    "    Step 3: Digitize the data set using encoding"
   ],
   "metadata": {
    "colab_type": "text",
    "id": "8FncMW4IdTNk"
   }
  },
  {
   "cell_type": "code",
   "execution_count": 9,
   "source": [
    "#creating labelEncoder\r\n",
    "le = preprocessing.LabelEncoder()\r\n",
    "\r\n",
    "# Converting string labels into numbers.\r\n",
    "Outlook_encoded = le.fit_transform(Outlook)\r\n",
    "Outlook_name_mapping = dict(zip(le.classes_, le.transform(le.classes_)))\r\n",
    "print(\"Outllok mapping:\",Outlook_name_mapping)\r\n",
    "\r\n",
    "Temperature_encoded = le.fit_transform(Temperature)\r\n",
    "Temperature_name_mapping = dict(zip(le.classes_, le.transform(le.classes_)))\r\n",
    "print(\"Temperature mapping:\",Temperature_name_mapping)\r\n",
    "\r\n",
    "Humidity_encoded = le.fit_transform(Humidity)\r\n",
    "Humidity_name_mapping = dict(zip(le.classes_, le.transform(le.classes_)))\r\n",
    "print(\"Humidity mapping:\",Humidity_name_mapping)\r\n",
    "\r\n",
    "Wind_encoded = le.fit_transform(Wind)\r\n",
    "Wind_name_mapping = dict(zip(le.classes_, le.transform(le.classes_)))\r\n",
    "print(\"Wind mapping:\",Wind_name_mapping)\r\n",
    "\r\n",
    "Play_encoded = le.fit_transform(Play)\r\n",
    "Play_name_mapping = dict(zip(le.classes_, le.transform(le.classes_)))\r\n",
    "print(\"Play mapping:\",Play_name_mapping)\r\n",
    "\r\n",
    "print(\"\\n\\n\")\r\n",
    "print(\"Weather:\" ,Outlook_encoded)\r\n",
    "print(\"Temerature:\" ,Temperature_encoded)\r\n",
    "print(\"Humidity:\" ,Humidity_encoded)\r\n",
    "print(\"Wind:\" ,Wind_encoded)\r\n",
    "print(\"Play:\" ,Play_encoded)"
   ],
   "outputs": [
    {
     "output_type": "stream",
     "name": "stdout",
     "text": [
      "Outllok mapping: {'Overcast': 0, 'Rainy': 1, 'Sunny': 2}\n",
      "Temperature mapping: {'Cool': 0, 'Hot': 1, 'Mild': 2}\n",
      "Humidity mapping: {'High': 0, 'Normal': 1}\n",
      "Wind mapping: {'False': 0, 'True': 1}\n",
      "Play mapping: {'No': 0, 'Yes': 1}\n",
      "\n",
      "\n",
      "\n",
      "Weather: [1 1 0 2 2 2 0 1 1 2 1 0 0 2]\n",
      "Temerature: [1 1 1 2 0 0 0 2 0 2 2 2 1 2]\n",
      "Humidity: [0 0 0 0 1 1 1 0 1 1 1 0 1 0]\n",
      "Wind: [0 1 0 0 0 1 1 0 0 0 1 1 0 1]\n",
      "Play: [0 0 1 1 1 0 1 0 1 1 1 1 1 0]\n"
     ]
    }
   ],
   "metadata": {
    "colab": {
     "base_uri": "https://localhost:8080/",
     "height": 243
    },
    "colab_type": "code",
    "executionInfo": {
     "elapsed": 2342,
     "status": "ok",
     "timestamp": 1596080279799,
     "user": {
      "displayName": "Prof. Hariom Pandya",
      "photoUrl": "https://lh3.googleusercontent.com/a-/AOh14Ggt3sg6X_951s0boD3SSJvqRng4AQaC3MhTBtGQ9Q=s64",
      "userId": "16159546014304882594"
     },
     "user_tz": -330
    },
    "id": "Awu5kIQxdTNo",
    "outputId": "6f150603-28ca-43a0-8429-2a244dd49702"
   }
  },
  {
   "cell_type": "markdown",
   "source": [
    "    Step 4: Merge different features to prepare dataset"
   ],
   "metadata": {
    "colab_type": "text",
    "id": "ftSYL4UFdTN8"
   }
  },
  {
   "cell_type": "code",
   "execution_count": 9,
   "source": [],
   "outputs": [],
   "metadata": {
    "colab": {},
    "colab_type": "code",
    "executionInfo": {
     "elapsed": 2327,
     "status": "ok",
     "timestamp": 1596080279803,
     "user": {
      "displayName": "Prof. Hariom Pandya",
      "photoUrl": "https://lh3.googleusercontent.com/a-/AOh14Ggt3sg6X_951s0boD3SSJvqRng4AQaC3MhTBtGQ9Q=s64",
      "userId": "16159546014304882594"
     },
     "user_tz": -330
    },
    "id": "RUCHRYb3dTOC"
   }
  },
  {
   "cell_type": "markdown",
   "source": [
    "    Step 5: Train ’Create and Train DecisionTreeClassifier’"
   ],
   "metadata": {
    "colab_type": "text",
    "id": "NMgpif_GdTOW"
   }
  },
  {
   "cell_type": "code",
   "execution_count": 10,
   "source": [
    "#Create a Decision Tree Classifier (using Entropy)\r\n",
    "\r\n",
    "\r\n",
    "# Train the model using the training sets\r\n"
   ],
   "outputs": [],
   "metadata": {
    "colab": {},
    "colab_type": "code",
    "executionInfo": {
     "elapsed": 2316,
     "status": "ok",
     "timestamp": 1596080279806,
     "user": {
      "displayName": "Prof. Hariom Pandya",
      "photoUrl": "https://lh3.googleusercontent.com/a-/AOh14Ggt3sg6X_951s0boD3SSJvqRng4AQaC3MhTBtGQ9Q=s64",
      "userId": "16159546014304882594"
     },
     "user_tz": -330
    },
    "id": "jDnsCMnGdTOa"
   }
  },
  {
   "cell_type": "markdown",
   "source": [
    "    Step 6: Predict Output for new data"
   ],
   "metadata": {
    "colab_type": "text",
    "id": "ZmgZ1-obdTOw"
   }
  },
  {
   "cell_type": "code",
   "execution_count": 11,
   "source": [
    "#Predict Output\r\n"
   ],
   "outputs": [],
   "metadata": {
    "colab": {},
    "colab_type": "code",
    "executionInfo": {
     "elapsed": 2303,
     "status": "ok",
     "timestamp": 1596080279809,
     "user": {
      "displayName": "Prof. Hariom Pandya",
      "photoUrl": "https://lh3.googleusercontent.com/a-/AOh14Ggt3sg6X_951s0boD3SSJvqRng4AQaC3MhTBtGQ9Q=s64",
      "userId": "16159546014304882594"
     },
     "user_tz": -330
    },
    "id": "lD0pzkWtdTOy"
   }
  },
  {
   "cell_type": "markdown",
   "source": [
    "    Step 7: Display Decsion Tree Created\n",
    "     \n",
    "     - This step requires graphviz and tkinter packages installed "
   ],
   "metadata": {
    "colab_type": "text",
    "id": "QgrMbw-xdTPB"
   }
  },
  {
   "cell_type": "code",
   "execution_count": 12,
   "source": [
    "from sklearn.tree import export_graphviz\r\n",
    "#export_graphviz(clf_entropy,out_file='tree_entropy.dot',\r\n",
    "#               feature_names=['outlook','temperature','humidity','wind'],\r\n",
    "# #              class_names=['play_no','play_yes'],\r\n",
    "   #             filled=True)\r\n",
    "\r\n",
    "# Convert to png\r\n",
    "#from subprocess import call\r\n",
    "#call(['dot', '-Tpng', 'tree_entropy.dot', '-o', 'tree_entropy.png', '-Gdpi=600'])\r\n",
    "\r\n",
    "# Display in python\r\n",
    "#import matplotlib.pyplot as plt\r\n",
    "#plt.figure(figsize = (14, 18))\r\n",
    "#plt.imshow(plt.imread('tree_entropy.png'))\r\n",
    "#plt.axis('off');\r\n",
    "#plt.show();"
   ],
   "outputs": [],
   "metadata": {
    "colab": {},
    "colab_type": "code",
    "executionInfo": {
     "elapsed": 2293,
     "status": "ok",
     "timestamp": 1596080279811,
     "user": {
      "displayName": "Prof. Hariom Pandya",
      "photoUrl": "https://lh3.googleusercontent.com/a-/AOh14Ggt3sg6X_951s0boD3SSJvqRng4AQaC3MhTBtGQ9Q=s64",
      "userId": "16159546014304882594"
     },
     "user_tz": -330
    },
    "id": "lc-d1PeVdTPD"
   }
  },
  {
   "cell_type": "markdown",
   "source": [],
   "metadata": {
    "colab_type": "text",
    "id": "r22uNdQ5dTPc"
   }
  }
 ],
 "metadata": {
  "colab": {
   "name": "1_DT_Weather_Entropy.ipynb",
   "provenance": []
  },
  "kernelspec": {
   "display_name": "Python 3",
   "language": "python",
   "name": "python3"
  },
  "language_info": {
   "codemirror_mode": {
    "name": "ipython",
    "version": 3
   },
   "file_extension": ".py",
   "mimetype": "text/x-python",
   "name": "python",
   "nbconvert_exporter": "python",
   "pygments_lexer": "ipython3",
   "version": "3.8.10"
  }
 },
 "nbformat": 4,
 "nbformat_minor": 1
}