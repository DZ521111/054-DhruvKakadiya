{
  "nbformat": 4,
  "nbformat_minor": 2,
  "metadata": {
    "colab": {
      "name": "054_task_twitterSample_LoR_TF.ipynb",
      "provenance": []
    },
    "kernelspec": {
      "name": "python3",
      "display_name": "Python 3"
    },
    "language_info": {
      "name": "python"
    }
  },
  "cells": [
    {
      "cell_type": "code",
      "execution_count": 438,
      "source": [
        "'''\r\n",
        "Author: Dhruv B Kakadiya\r\n",
        "\r\n",
        "'''"
      ],
      "outputs": [
        {
          "output_type": "execute_result",
          "data": {
            "application/vnd.google.colaboratory.intrinsic+json": {
              "type": "string"
            },
            "text/plain": [
              "'\\nAuthor: Dhruv B Kakadiya\\n\\n'"
            ]
          },
          "metadata": {},
          "execution_count": 438
        }
      ],
      "metadata": {
        "colab": {
          "base_uri": "https://localhost:8080/",
          "height": 35
        },
        "id": "zn93abBhbKCN",
        "outputId": "566e6dc3-56c2-477c-dad3-0004b517b92d"
      }
    },
    {
      "cell_type": "code",
      "execution_count": 439,
      "source": [
        "# importing libraries\r\n",
        "\r\n",
        "import nltk\r\n",
        "import pandas as pd\r\n",
        "import re\r\n",
        "import string\r\n",
        "import numpy as np\r\n",
        "\r\n",
        "# import model libraries\r\n",
        "import tensorflow as tf\r\n",
        "\r\n",
        "# for visualizatiobn\r\n",
        "import matplotlib.pyplot as plt\r\n",
        "\r\n",
        "# NLTK libraries\r\n",
        "from nltk.corpus import stopwords\r\n",
        "from nltk.stem import PorterStemmer\r\n",
        "from nltk.tokenize import TweetTokenizer\r\n",
        "from nltk.corpus import twitter_samples\r\n",
        "from sklearn.model_selection import train_test_split\r\n",
        "\r\n",
        "#This function can only be called before any Graphs, Ops, or Tensors have been created.\r\n",
        "#It can be used at the beginning of the program for complex migration projects from TensorFlow 1.x to 2.x.\r\n",
        "from tensorflow.python.framework.ops import disable_eager_execution\r\n",
        "disable_eager_execution()"
      ],
      "outputs": [],
      "metadata": {
        "id": "kWNMklDXbUD9"
      }
    },
    {
      "cell_type": "code",
      "execution_count": 440,
      "source": [
        "# downloading daatsets\r\n",
        "\r\n",
        "nltk.download('twitter_samples')\r\n",
        "nltk.download('stopwords')"
      ],
      "outputs": [
        {
          "output_type": "stream",
          "name": "stdout",
          "text": [
            "[nltk_data] Downloading package twitter_samples to /root/nltk_data...\n",
            "[nltk_data]   Package twitter_samples is already up-to-date!\n",
            "[nltk_data] Downloading package stopwords to /root/nltk_data...\n",
            "[nltk_data]   Package stopwords is already up-to-date!\n"
          ]
        },
        {
          "output_type": "execute_result",
          "data": {
            "text/plain": [
              "True"
            ]
          },
          "metadata": {},
          "execution_count": 440
        }
      ],
      "metadata": {
        "colab": {
          "base_uri": "https://localhost:8080/"
        },
        "id": "VCTNcsTubzjs",
        "outputId": "197f305f-39f9-4577-e562-66bf79043c88"
      }
    },
    {
      "cell_type": "code",
      "execution_count": 441,
      "source": [
        "# getting positive and negative dataset\r\n",
        "\r\n",
        "all_positive_tweets = twitter_samples.strings('positive_tweets.json')\r\n",
        "all_negative_tweets = twitter_samples.strings('negative_tweets.json')\r\n",
        "\r\n",
        "print(\"positive tweets\\n\")\r\n",
        "for _ in range(5):\r\n",
        "  print(all_positive_tweets[_])\r\n",
        "\r\n",
        "print()\r\n",
        "print(\"negative tweets\\n\")\r\n",
        "for _ in range(5):\r\n",
        "  print(all_negative_tweets[_])"
      ],
      "outputs": [
        {
          "output_type": "stream",
          "name": "stdout",
          "text": [
            "positive tweets\n",
            "\n",
            "#FollowFriday @France_Inte @PKuchly57 @Milipol_Paris for being top engaged members in my community this week :)\n",
            "@Lamb2ja Hey James! How odd :/ Please call our Contact Centre on 02392441234 and we will be able to assist you :) Many thanks!\n",
            "@DespiteOfficial we had a listen last night :) As You Bleed is an amazing track. When are you in Scotland?!\n",
            "@97sides CONGRATS :)\n",
            "yeaaaah yippppy!!!  my accnt verified rqst has succeed got a blue tick mark on my fb profile :) in 15 days\n",
            "\n",
            "negative tweets\n",
            "\n",
            "hopeless for tmr :(\n",
            "Everything in the kids section of IKEA is so cute. Shame I'm nearly 19 in 2 months :(\n",
            "@Hegelbon That heart sliding into the waste basket. :(\n",
            "“@ketchBurning: I hate Japanese call him \"bani\" :( :(”\n",
            "\n",
            "Me too\n",
            "Dang starting next week I have \"work\" :(\n"
          ]
        }
      ],
      "metadata": {
        "colab": {
          "base_uri": "https://localhost:8080/"
        },
        "id": "-B6jcgwZdpUh",
        "outputId": "c7e51223-230e-4581-e622-de115066d07a"
      }
    },
    {
      "cell_type": "code",
      "execution_count": 442,
      "source": [
        "# mixed data\r\n",
        "\r\n",
        "main_data = all_positive_tweets + all_negative_tweets\r\n",
        "\r\n",
        "# make labels for positive tweets its '1' and for negative tweets its '0'\r\n",
        "main_labels = np.append(np.ones((len(all_positive_tweets), 1)), np.zeros((len(all_negative_tweets), 1)), axis = 0)\r\n",
        "\r\n",
        "print(\"main_data\\n\")\r\n",
        "for _ in range(5):\r\n",
        "  print(main_data[_])\r\n",
        "\r\n",
        "print(\"\\nprint labels\")\r\n",
        "print(main_labels)\r\n",
        "\r\n",
        "print(len(main_data))"
      ],
      "outputs": [
        {
          "output_type": "stream",
          "name": "stdout",
          "text": [
            "main_data\n",
            "\n",
            "hopeless for tmr :(\n",
            "Everything in the kids section of IKEA is so cute. Shame I'm nearly 19 in 2 months :(\n",
            "@Hegelbon That heart sliding into the waste basket. :(\n",
            "“@ketchBurning: I hate Japanese call him \"bani\" :( :(”\n",
            "\n",
            "Me too\n",
            "Dang starting next week I have \"work\" :(\n",
            "\n",
            "print labels\n",
            "[[1.]\n",
            " [1.]\n",
            " [1.]\n",
            " ...\n",
            " [0.]\n",
            " [0.]\n",
            " [0.]]\n",
            "10000\n"
          ]
        }
      ],
      "metadata": {
        "colab": {
          "base_uri": "https://localhost:8080/"
        },
        "id": "Qaqdq-q7eL7L",
        "outputId": "19b253ea-82db-4fa1-fd0b-27233fbb4b75"
      }
    },
    {
      "cell_type": "code",
      "execution_count": 443,
      "source": [
        "# train test split\r\n",
        "\r\n",
        "train_x, test_x, train_y, test_y = train_test_split(main_data, main_labels, test_size = 0.30, random_state = 54)"
      ],
      "outputs": [],
      "metadata": {
        "id": "1KcI1g68fQWu"
      }
    },
    {
      "cell_type": "code",
      "execution_count": 444,
      "source": [
        "# whole methods and fcuntions for TF model training!\r\n",
        "\r\n",
        "class MyTweetLogisticRegressionModel:\r\n",
        "  def __transform_data(self, tweets):\r\n",
        "    data = []\r\n",
        "    for tweet in tweets:\r\n",
        "      data.append(self.extract_features(tweet))\r\n",
        "      #print(data)\r\n",
        "    return (np.asarray(data))\r\n",
        "\r\n",
        "\r\n",
        "  def fit(self, x, y, alpha = 1e-4, epochs = 20, threshold_val = 0.5, record_epoch = False):\r\n",
        "    self.threshold_val = threshold_val\r\n",
        "    self._freq = self.get_freqs(x, y)\r\n",
        "    self._shape = 2\r\n",
        "    self._inputs = self.__transform_data(x)\r\n",
        "    self._tlen = len(y)\r\n",
        "\r\n",
        "    # return sample of standard normal distribution\r\n",
        "    self._bias = tf.Variable(np.random.randn(1), name = \"Bias\")\r\n",
        "    self._weights = tf.Variable(np.random.randn(1, self._shape), name = \"Weight\")\r\n",
        "    self._tinit = tf.compat.v1.global_variables_initializer()\r\n",
        "    \r\n",
        "    self._targets = np.asarray(y)\r\n",
        "    self.alpha = alpha\r\n",
        "    self.epochs = epochs\r\n",
        "    self._repoch = record_epoch\r\n",
        "    self.__trainModel()\r\n",
        "    return\r\n",
        "\r\n",
        "\r\n",
        "  def __initSaver(self):\r\n",
        "    saver = tf.compat.v1.train.Saver()\r\n",
        "    self._saver = saver\r\n",
        "    self._sesspath = 'TSession'\r\n",
        "    return\r\n",
        "\r\n",
        "\r\n",
        "  def threshold(self, val):\r\n",
        "    if (val >= self.threshold_val):\r\n",
        "      return (1)\r\n",
        "    return (0)\r\n",
        "\r\n",
        "\r\n",
        "  def process_tweet(self, tweet):\r\n",
        "    stemmer = PorterStemmer()\r\n",
        "    stopwords_english = stopwords.words('english')\r\n",
        "    # remove stock market tickers like $GE\r\n",
        "    tweet = re.sub(r'\\$\\w*', '', tweet)\r\n",
        "    # remove old style retweet text \"RT\"\r\n",
        "    tweet = re.sub(r'^RT[\\s]+', '', tweet)\r\n",
        "    # remove hyperlinks\r\n",
        "    tweet = re.sub(r'https?:\\/\\/.*[\\r\\n]*', '', tweet)\r\n",
        "    # remove hashtags\r\n",
        "    # only removing the hash # sign from the word\r\n",
        "    tweet = re.sub(r'#', '', tweet)\r\n",
        "    # tokenize tweets\r\n",
        "    tokenizer = TweetTokenizer(preserve_case = False, strip_handles = True, reduce_len = True)\r\n",
        "    tweet_tokens = tokenizer.tokenize(tweet)\r\n",
        "    tweets_clean = []\r\n",
        "    # cleaning the tweets\r\n",
        "    for word in tweet_tokens:\r\n",
        "      if word not in stopwords_english and word not in string.punctuation:\r\n",
        "        tweets_clean.append(stemmer.stem(word))\r\n",
        "        #print(tweets_clean)\r\n",
        "    return (tweets_clean)\r\n",
        "\r\n",
        "\r\n",
        "  def predict(self, indata):\r\n",
        "    with tf.compat.v1.Session() as sess:\r\n",
        "      self._saver.restore(sess,save_path = self._sesspath)\r\n",
        "      indata = self.__transform_data(indata)\r\n",
        "      return sess.run(tf.nn.sigmoid(tf.add(tf.matmul(a = indata, b = self._weights, transpose_b = True), self._bias)))\r\n",
        "    print(\"Failed To Retrieve Session\")\r\n",
        "    return\r\n",
        "\r\n",
        "\r\n",
        "  def get_accuracy(self, x, y):\r\n",
        "    if len(x) != len(y):\r\n",
        "      print(\"Dimension are different.\")\r\n",
        "      return\r\n",
        "    return (((x == y).sum()) / len(y))\r\n",
        "\r\n",
        "\r\n",
        "  def get_freqs(self, tweets, ys):\r\n",
        "    freqs = dict()\r\n",
        "    yslist = np.squeeze(ys).tolist()\r\n",
        "    for y, tweet in zip(yslist, tweets):\r\n",
        "      for word in self.process_tweet(tweet):\r\n",
        "        pair = (word, y)\r\n",
        "        if pair not in freqs:\r\n",
        "          freqs[pair] = 0\r\n",
        "        freqs[pair] += 1\r\n",
        "    return freqs\r\n",
        "\r\n",
        "\r\n",
        "  def extract_features(self, tweet):\r\n",
        "    freqs = self._freq\r\n",
        "    word_l = self.process_tweet(tweet)\r\n",
        "    x = np.zeros((1, 2))\r\n",
        "    for word in word_l: \r\n",
        "      if (word, 1) in freqs:\r\n",
        "        x[0, 0] += freqs[word, 1]\r\n",
        "      if (word, 0) in freqs:\r\n",
        "        x[0, 1] += freqs[word, 0]\r\n",
        "    assert(x.shape == (1, 2))\r\n",
        "    return x[0]\r\n",
        "\r\n",
        "\r\n",
        "  def getAccDets(self):\r\n",
        "    if self._repoch:\r\n",
        "      return self.__accurary_det\r\n",
        "    return\r\n",
        "\r\n",
        "\r\n",
        "  def __trainModel(self):\r\n",
        "    if self._repoch:\r\n",
        "      self._err = []\r\n",
        "      self._precs = []\r\n",
        "      self.__accurary_det = []\r\n",
        "    \r\n",
        "    # model of logistic regreesion of tensorflow.\r\n",
        "    logi = tf.nn.sigmoid(tf.add(tf.matmul(a = self._inputs, b = self._weights, transpose_b = True), self._bias))\r\n",
        "    err = tf.nn.sigmoid_cross_entropy_with_logits(logits = logi, labels = self._targets)\r\n",
        "    temp = tf.compat.v1.train.GradientDescentOptimizer(learning_rate = self.alpha, name='GradientDescent').minimize(err)\r\n",
        "    self.__initSaver()\r\n",
        "    with tf.compat.v1.Session() as sess:\r\n",
        "      sess.run(self._tinit)\r\n",
        "      print(\"Bias\", sess.run(self._bias))\r\n",
        "      print(\"Weights\", sess.run(self._weights))\r\n",
        "      for epoch in range(self.epochs):\r\n",
        "        sess.run(temp)\r\n",
        "        __preds = sess.run(logi)\r\n",
        "        acc = ((__preds == self._targets).sum()) / self._tlen\r\n",
        "        if self._repoch:\r\n",
        "          self.__accurary_det.append(acc)\r\n",
        "        if epoch % 100 == 0:\r\n",
        "          print(\"Acc:\", acc)\r\n",
        "        # print(self.__accurary_det)\r\n",
        "      self._saver.save(sess, self._sesspath)\r\n",
        "    return"
      ],
      "outputs": [],
      "metadata": {
        "id": "xUsgyi7QfiMb"
      }
    },
    {
      "cell_type": "code",
      "execution_count": 445,
      "source": [
        "tf_lr_model = MyTweetLogisticRegressionModel()\n",
        "\n",
        "tf_lr_model.fit(x = train_x, y = train_y, alpha = 0.01, record_epoch = True, epochs = 500)"
      ],
      "outputs": [
        {
          "output_type": "stream",
          "name": "stdout",
          "text": [
            "Bias [-0.48827188]\n",
            "Weights [[ 0.40823234 -0.47956454]]\n",
            "Acc: 0.496\n",
            "Acc: 0.49585714285714283\n",
            "Acc: 0.49585714285714283\n",
            "Acc: 0.49585714285714283\n",
            "Acc: 0.49585714285714283\n"
          ]
        }
      ],
      "metadata": {
        "colab": {
          "base_uri": "https://localhost:8080/"
        },
        "id": "SR4ggBnyhZUD",
        "outputId": "19fd8eea-92ad-4c4e-c076-d5facac6d612"
      }
    },
    {
      "cell_type": "code",
      "execution_count": 445,
      "source": [],
      "outputs": [],
      "metadata": {
        "id": "uSrIoTJ3MQ52"
      }
    }
  ]
}