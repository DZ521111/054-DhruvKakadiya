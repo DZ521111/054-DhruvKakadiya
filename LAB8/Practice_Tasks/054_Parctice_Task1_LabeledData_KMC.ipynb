{
  "nbformat": 4,
  "nbformat_minor": 2,
  "metadata": {
    "colab": {
      "name": "054_Parctice_Task1_LabeledData_KMC.ipynb",
      "provenance": []
    },
    "kernelspec": {
      "name": "python3",
      "display_name": "Python 3"
    },
    "language_info": {
      "name": "python"
    }
  },
  "cells": [
    {
      "cell_type": "code",
      "execution_count": 16,
      "source": [
        "'''\r\n",
        "Author: Dhruv B kakadiya\r\n",
        "\r\n",
        "'''"
      ],
      "outputs": [
        {
          "output_type": "execute_result",
          "data": {
            "application/vnd.google.colaboratory.intrinsic+json": {
              "type": "string"
            },
            "text/plain": [
              "'\\nAuthor: Dhruv B kakadiya\\n\\n'"
            ]
          },
          "metadata": {},
          "execution_count": 16
        }
      ],
      "metadata": {
        "colab": {
          "base_uri": "https://localhost:8080/",
          "height": 35
        },
        "id": "_eYIw4orzaXC",
        "outputId": "872b7854-28fb-4e88-ea5d-63cecbebb7f9"
      }
    },
    {
      "cell_type": "code",
      "execution_count": 17,
      "source": [
        "# Using scikit-learn to perform K-Means clustering\r\n",
        "from sklearn.cluster import KMeans\r\n",
        "import numpy as np\r\n",
        "from scipy.stats import mode\r\n",
        "from sklearn.datasets import load_digits\r\n",
        "from sklearn.metrics import confusion_matrix\r\n",
        "import seaborn as sns\r\n",
        "\r\n",
        "digits = load_digits()\r\n",
        "digits.data.shape"
      ],
      "outputs": [
        {
          "output_type": "execute_result",
          "data": {
            "text/plain": [
              "(1797, 64)"
            ]
          },
          "metadata": {},
          "execution_count": 17
        }
      ],
      "metadata": {
        "colab": {
          "base_uri": "https://localhost:8080/"
        },
        "id": "HK68DiQ1zk7R",
        "outputId": "abb9e6c3-e6ad-4d95-86db-3554f13e2bd9"
      }
    },
    {
      "cell_type": "code",
      "execution_count": 18,
      "source": [
        "kmeans = KMeans(n_clusters=10, random_state=54)\r\n",
        "prediction = kmeans.fit_predict(digits.data)\r\n",
        "prediction"
      ],
      "outputs": [
        {
          "output_type": "execute_result",
          "data": {
            "text/plain": [
              "array([5, 9, 9, ..., 9, 4, 4], dtype=int32)"
            ]
          },
          "metadata": {},
          "execution_count": 18
        }
      ],
      "metadata": {
        "colab": {
          "base_uri": "https://localhost:8080/"
        },
        "id": "tKVuXqeDznk_",
        "outputId": "8dbbe8b5-96c8-4ac0-a774-047b966be0d3"
      }
    },
    {
      "cell_type": "code",
      "execution_count": 19,
      "source": [
        "kmeans.cluster_centers_.shape"
      ],
      "outputs": [
        {
          "output_type": "execute_result",
          "data": {
            "text/plain": [
              "(10, 64)"
            ]
          },
          "metadata": {},
          "execution_count": 19
        }
      ],
      "metadata": {
        "colab": {
          "base_uri": "https://localhost:8080/"
        },
        "id": "vQtGnAnDzpNO",
        "outputId": "fd3a66fe-dee5-4913-b4c3-fcbc7a1b1e3e"
      }
    },
    {
      "cell_type": "code",
      "execution_count": 20,
      "source": [
        "# Scatter plot of the data points\r\n",
        "import matplotlib.pyplot as plt\r\n",
        "fig, ax = plt.subplots(2, 5, figsize=(8, 3))\r\n",
        "centers = kmeans.cluster_centers_.reshape(10, 8, 8)\r\n",
        "for axi, center in zip(ax.flat, centers):\r\n",
        "  axi.set(xticks=[], yticks=[])\r\n",
        "  axi.imshow(center, interpolation='nearest', cmap=plt.cm.binary)"
      ],
      "outputs": [
        {
          "output_type": "display_data",
          "data": {
            "image/png": "[encoded data removed]",
            "text/plain": [
              "<Figure size 576x216 with 10 Axes>"
            ]
          },
          "metadata": {}
        }
      ],
      "metadata": {
        "colab": {
          "base_uri": "https://localhost:8080/",
          "height": 197
        },
        "id": "dHIoxp4fzs-v",
        "outputId": "43d403de-835a-4497-d2d9-2ce7fc0181a5"
      }
    },
    {
      "cell_type": "code",
      "execution_count": 21,
      "source": [
        "\n",
        "\n",
        "labels = np.zeros_like(prediction)\n",
        "for i in range(10):\n",
        "  mask = (prediction == i)\n",
        "  labels[mask] = mode(digits.target[mask])[0]"
      ],
      "outputs": [],
      "metadata": {
        "id": "NPyxJ298zvQw"
      }
    },
    {
      "cell_type": "code",
      "execution_count": 22,
      "source": [
        "from sklearn.metrics import accuracy_score\n",
        "accuracy_score(digits.target, labels)"
      ],
      "outputs": [
        {
          "output_type": "execute_result",
          "data": {
            "text/plain": [
              "0.7952142459654981"
            ]
          },
          "metadata": {},
          "execution_count": 22
        }
      ],
      "metadata": {
        "colab": {
          "base_uri": "https://localhost:8080/"
        },
        "id": "04e6-3Aq0Brw",
        "outputId": "bf1c32fe-c9df-4e2d-849b-571dc6bbf5f9"
      }
    },
    {
      "cell_type": "code",
      "execution_count": 23,
      "source": [
        "mat = confusion_matrix(digits.target, labels)\n",
        "\n",
        "ax = sns.heatmap(mat.T, square=True, annot=True, fmt='d', cbar=False, xticklabels=digits.target_names, yticklabels=digits.target_names)\n",
        "ax.set_ylim(10.0,0)\n",
        "\n",
        "plt.xlabel('true label')\n",
        "plt.ylabel('predicted label');"
      ],
      "outputs": [
        {
          "output_type": "display_data",
          "data": {
            "image/png": "[encoded data removed]",
            "text/plain": [
              "<Figure size 432x288 with 1 Axes>"
            ]
          },
          "metadata": {
            "needs_background": "light"
          }
        }
      ],
      "metadata": {
        "colab": {
          "base_uri": "https://localhost:8080/",
          "height": 279
        },
        "id": "Y3JPobbi0D0n",
        "outputId": "1ea70dc4-fe0f-4ae9-9c2a-0cc93ab88842"
      }
    },
    {
      "cell_type": "code",
      "execution_count": 23,
      "source": [],
      "outputs": [],
      "metadata": {
        "id": "974nfnVp0FtH"
      }
    }
  ]
}