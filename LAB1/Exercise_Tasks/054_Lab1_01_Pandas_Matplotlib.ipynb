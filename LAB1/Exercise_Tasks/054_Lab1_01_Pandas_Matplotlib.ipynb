{
  "nbformat": 4,
  "nbformat_minor": 0,
  "metadata": {
    "colab": {
      "name": "054_Lab1_01_Pandas_Matplotlib.ipynb",
      "provenance": [],
      "collapsed_sections": []
    },
    "kernelspec": {
      "name": "python3",
      "display_name": "Python 3"
    },
    "language_info": {
      "name": "python"
    }
  },
  "cells": [
    {
      "cell_type": "code",
      "metadata": {
        "colab": {
          "base_uri": "https://localhost:8080/"
        },
        "id": "YywiqRvTPlWa",
        "outputId": "47b68239-5bed-40b4-e35a-f35a33bec6c7"
      },
      "source": [
        "from google.colab import drive\n",
        "drive.mount(\"/content/drive\")"
      ],
      "execution_count": null,
      "outputs": [
        {
          "output_type": "stream",
          "text": [
            "Drive already mounted at /content/drive; to attempt to forcibly remount, call drive.mount(\"/content/drive\", force_remount=True).\n"
          ],
          "name": "stdout"
        }
      ]
    },
    {
      "cell_type": "code",
      "metadata": {
        "id": "HRhEPP95S63h"
      },
      "source": [
        "# import modules\n",
        "import pandas as pd\n",
        "import numpy as np\n",
        "import matplotlib.pyplot as plt"
      ],
      "execution_count": null,
      "outputs": []
    },
    {
      "cell_type": "code",
      "metadata": {
        "id": "hekLhOsCTjxO"
      },
      "source": [
        "# reading data\n",
        "main_data = pd.read_csv('/content/drive/MyDrive/Sem7_ML_Data/LAB01/Data_for_Transformation.csv')"
      ],
      "execution_count": null,
      "outputs": []
    },
    {
      "cell_type": "code",
      "metadata": {
        "colab": {
          "base_uri": "https://localhost:8080/",
          "height": 366
        },
        "id": "CRb3k9POeQm7",
        "outputId": "3fe43615-bea4-41b8-e2ad-263e7d4190d8"
      },
      "source": [
        "# printing head and scatter plot\n",
        "print(main_data.head())\n",
        "plt.scatter(main_data[\"Age\"], main_data[\"Salary\"])\n",
        "plt.show()"
      ],
      "execution_count": null,
      "outputs": [
        {
          "output_type": "stream",
          "text": [
            "   Country  Age  Salary Purchased\n",
            "0   France   44   72000        No\n",
            "1    Spain   27   48000       Yes\n",
            "2  Germany   30   54000        No\n",
            "3    Spain   38   61000        No\n",
            "4  Germany   40   68000       Yes\n"
          ],
          "name": "stdout"
        },
        {
          "output_type": "display_data",
          "data": {
            "image/png": "[encoded data removed]",
            "text/plain": [
              "<Figure size 432x288 with 1 Axes>"
            ]
          },
          "metadata": {
            "tags": [],
            "needs_background": "light"
          }
        }
      ]
    },
    {
      "cell_type": "code",
      "metadata": {
        "colab": {
          "base_uri": "https://localhost:8080/",
          "height": 265
        },
        "id": "_lr4te43hYfD",
        "outputId": "1e3117cb-3835-4c08-eb7f-20d3a4b8cded"
      },
      "source": [
        "# 2nd plot\n",
        "plt.hist(main_data[\"Salary\"], bins = 10, color = \"yellow\")\n",
        "plt.show()"
      ],
      "execution_count": null,
      "outputs": [
        {
          "output_type": "display_data",
          "data": {
            "image/png": "[encoded data removed]",
            "text/plain": [
              "<Figure size 432x288 with 1 Axes>"
            ]
          },
          "metadata": {
            "tags": [],
            "needs_background": "light"
          }
        }
      ]
    },
    {
      "cell_type": "code",
      "metadata": {
        "colab": {
          "base_uri": "https://localhost:8080/",
          "height": 350
        },
        "id": "Qgo7Tfb9hcDY",
        "outputId": "8ee5e59b-5797-4537-ed81-5a21939f6f25"
      },
      "source": [
        "# 3rd plot\n",
        "fig_size = plt.figure(figsize=(7, 5))\n",
        "plt.bar(main_data[\"Country\"], main_data[\"Salary\"], color=\"green\")\n",
        "plt.xlabel(\"Salaries\")\n",
        "plt.ylabel(\"Countries\")\n",
        "plt.title(\"Bar chart of country vs salary\")\n",
        "plt.show()"
      ],
      "execution_count": null,
      "outputs": [
        {
          "output_type": "display_data",
          "data": {
            "image/png": "[encoded data removed]",
            "text/plain": [
              "<Figure size 504x360 with 1 Axes>"
            ]
          },
          "metadata": {
            "tags": [],
            "needs_background": "light"
          }
        }
      ]
    },
    {
      "cell_type": "code",
      "metadata": {
        "id": "8Zu9JcvJhnp2"
      },
      "source": [
        "# Tasks which are already performed by professor \n",
        "# Pandas Matplotlib"
      ],
      "execution_count": 1,
      "outputs": []
    },
    {
      "cell_type": "code",
      "metadata": {
        "id": "MqM1H41l-rHq"
      },
      "source": [
        "import numpy as np\n",
        "import pandas as pd\n",
        "import matplotlib.pyplot as plt"
      ],
      "execution_count": 2,
      "outputs": []
    },
    {
      "cell_type": "code",
      "metadata": {
        "colab": {
          "base_uri": "https://localhost:8080/"
        },
        "id": "ulccRht3-wz6",
        "outputId": "d0cfa95f-2e94-4ecb-ffc9-c10b8021ed7e"
      },
      "source": [
        "from google.colab import drive\n",
        "drive.mount('/content/drive')"
      ],
      "execution_count": 3,
      "outputs": [
        {
          "output_type": "stream",
          "text": [
            "Mounted at /content/drive\n"
          ],
          "name": "stdout"
        }
      ]
    },
    {
      "cell_type": "code",
      "metadata": {
        "colab": {
          "base_uri": "https://localhost:8080/"
        },
        "id": "Vqim_kwc-zwB",
        "outputId": "bac065f7-a3ff-424d-9bda-b2d701ffbc5d"
      },
      "source": [
        "data=pd.read_csv('/content/drive/MyDrive/Sem7_ML_Data/LAB01/mtcars.csv')\n",
        "d=pd.crosstab(index=data['cyl'],columns=\"count\",dropna=True)\n",
        "print(d)"
      ],
      "execution_count": 4,
      "outputs": [
        {
          "output_type": "stream",
          "text": [
            "col_0  count\n",
            "cyl         \n",
            "4         11\n",
            "6          7\n",
            "8         14\n"
          ],
          "name": "stdout"
        }
      ]
    },
    {
      "cell_type": "code",
      "metadata": {
        "colab": {
          "base_uri": "https://localhost:8080/"
        },
        "id": "Ijo97_FZ-7wy",
        "outputId": "234009a1-e105-420b-bdce-491768a157be"
      },
      "source": [
        "print(data.info())"
      ],
      "execution_count": 5,
      "outputs": [
        {
          "output_type": "stream",
          "text": [
            "<class 'pandas.core.frame.DataFrame'>\n",
            "RangeIndex: 32 entries, 0 to 31\n",
            "Data columns (total 12 columns):\n",
            " #   Column  Non-Null Count  Dtype  \n",
            "---  ------  --------------  -----  \n",
            " 0   model   32 non-null     object \n",
            " 1   mpg     32 non-null     float64\n",
            " 2   cyl     32 non-null     int64  \n",
            " 3   disp    32 non-null     float64\n",
            " 4   hp      32 non-null     int64  \n",
            " 5   drat    32 non-null     float64\n",
            " 6   wt      32 non-null     float64\n",
            " 7   qsec    32 non-null     float64\n",
            " 8   vs      32 non-null     int64  \n",
            " 9   am      32 non-null     int64  \n",
            " 10  gear    32 non-null     int64  \n",
            " 11  carb    32 non-null     int64  \n",
            "dtypes: float64(5), int64(6), object(1)\n",
            "memory usage: 3.1+ KB\n",
            "None\n"
          ],
          "name": "stdout"
        }
      ]
    },
    {
      "cell_type": "code",
      "metadata": {
        "colab": {
          "base_uri": "https://localhost:8080/"
        },
        "id": "074HBkLK_A8C",
        "outputId": "abb87787-920a-4f66-838c-093456ac0b96"
      },
      "source": [
        "#Count Total Null values in each column\n",
        "print(\"Total Null Data:\",data.isnull().sum())"
      ],
      "execution_count": 6,
      "outputs": [
        {
          "output_type": "stream",
          "text": [
            "Total Null Data: model    0\n",
            "mpg      0\n",
            "cyl      0\n",
            "disp     0\n",
            "hp       0\n",
            "drat     0\n",
            "wt       0\n",
            "qsec     0\n",
            "vs       0\n",
            "am       0\n",
            "gear     0\n",
            "carb     0\n",
            "dtype: int64\n"
          ],
          "name": "stdout"
        }
      ]
    },
    {
      "cell_type": "code",
      "metadata": {
        "colab": {
          "base_uri": "https://localhost:8080/",
          "height": 265
        },
        "id": "0hUTq4gG_IqR",
        "outputId": "08308e9a-b32e-4362-a020-d6eebc881537"
      },
      "source": [
        "# Finding the Histogram\n",
        "# From the given dataset ‘mtcars.csv’, plot a histogram to check the frequency distributi\n",
        "#on of the variable ‘mpg’ (Miles per gallon).\n",
        "plt.hist(data['mpg'],bins=5)\n",
        "plt.show()"
      ],
      "execution_count": 7,
      "outputs": [
        {
          "output_type": "display_data",
          "data": {
            "image/png": "[encoded data removed]",
            "text/plain": [
              "<Figure size 432x288 with 1 Axes>"
            ]
          },
          "metadata": {
            "tags": [],
            "needs_background": "light"
          }
        }
      ]
    },
    {
      "cell_type": "code",
      "metadata": {
        "colab": {
          "base_uri": "https://localhost:8080/",
          "height": 265
        },
        "id": "MVffG7I1_ODD",
        "outputId": "ce802baf-0dc3-48b8-851f-07d69a8787f5"
      },
      "source": [
        "#scatter plot of ‘mpg’ (Miles per gallon) vs ‘wt’ (Weight of car)\n",
        "plt.scatter(data['mpg'],data['wt'])\n",
        "plt.show()"
      ],
      "execution_count": 8,
      "outputs": [
        {
          "output_type": "display_data",
          "data": {
            "image/png": "[encoded data removed]",
            "text/plain": [
              "<Figure size 432x288 with 1 Axes>"
            ]
          },
          "metadata": {
            "tags": [],
            "needs_background": "light"
          }
        }
      ]
    },
    {
      "cell_type": "code",
      "metadata": {
        "colab": {
          "base_uri": "https://localhost:8080/"
        },
        "id": "IeuMo6Wy_StB",
        "outputId": "300a02cc-d96e-4699-ef91-5dc84b34e369"
      },
      "source": [
        "#In the dataframe, under the variable gear count total records in each value\n",
        "df=pd.DataFrame(data,columns=['gear'])\n",
        "print(\"Count How many values:\\n\",df['gear'].value_counts())"
      ],
      "execution_count": 9,
      "outputs": [
        {
          "output_type": "stream",
          "text": [
            "Count How many values:\n",
            " 3    15\n",
            "4    12\n",
            "5     5\n",
            "Name: gear, dtype: int64\n"
          ],
          "name": "stdout"
        }
      ]
    },
    {
      "cell_type": "code",
      "metadata": {
        "id": "RtJRkrFG_YNq"
      },
      "source": [
        ""
      ],
      "execution_count": null,
      "outputs": []
    }
  ]
}