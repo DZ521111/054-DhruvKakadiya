{
  "nbformat": 4,
  "nbformat_minor": 0,
  "metadata": {
    "colab": {
      "name": "054_Lab1_01_Pandas_Matplotlib.ipynb",
      "provenance": [],
      "authorship_tag": "ABX9TyOzHfD63Y3raKiqg+mvc6FU",
      "include_colab_link": true
    },
    "kernelspec": {
      "name": "python3",
      "display_name": "Python 3"
    },
    "language_info": {
      "name": "python"
    }
  },
  "cells": [
    {
      "cell_type": "markdown",
      "metadata": {
        "id": "view-in-github",
        "colab_type": "text"
      },
      "source": [
        "<a href=\"https://colab.research.google.com/github/DZ521111/054-DhruvKakadiya/blob/main/054_Lab1_01_Pandas_Matplotlib.ipynb\" target=\"_parent\"><img src=\"https://colab.research.google.com/assets/colab-badge.svg\" alt=\"Open In Colab\"/></a>"
      ]
    },
    {
      "cell_type": "code",
      "metadata": {
        "colab": {
          "base_uri": "https://localhost:8080/"
        },
        "id": "YywiqRvTPlWa",
        "outputId": "47b68239-5bed-40b4-e35a-f35a33bec6c7"
      },
      "source": [
        "from google.colab import drive\n",
        "drive.mount(\"/content/drive\")"
      ],
      "execution_count": 14,
      "outputs": [
        {
          "output_type": "stream",
          "text": [
            "Drive already mounted at /content/drive; to attempt to forcibly remount, call drive.mount(\"/content/drive\", force_remount=True).\n"
          ],
          "name": "stdout"
        }
      ]
    },
    {
      "cell_type": "code",
      "metadata": {
        "id": "HRhEPP95S63h"
      },
      "source": [
        "# import modules\n",
        "import pandas as pd\n",
        "import numpy as np\n",
        "import matplotlib.pyplot as plt"
      ],
      "execution_count": 9,
      "outputs": []
    },
    {
      "cell_type": "code",
      "metadata": {
        "id": "hekLhOsCTjxO"
      },
      "source": [
        "# reading data\n",
        "main_data = pd.read_csv('/content/drive/MyDrive/Sem7_ML_Data/LAB01/Data_for_Transformation.csv')"
      ],
      "execution_count": 17,
      "outputs": []
    },
    {
      "cell_type": "code",
      "metadata": {
        "colab": {
          "base_uri": "https://localhost:8080/",
          "height": 366
        },
        "id": "CRb3k9POeQm7",
        "outputId": "3fe43615-bea4-41b8-e2ad-263e7d4190d8"
      },
      "source": [
        "# printing head and scatter plot\n",
        "print(main_data.head())\n",
        "plt.scatter(main_data[\"Age\"], main_data[\"Salary\"])\n",
        "plt.show()"
      ],
      "execution_count": 18,
      "outputs": [
        {
          "output_type": "stream",
          "text": [
            "   Country  Age  Salary Purchased\n",
            "0   France   44   72000        No\n",
            "1    Spain   27   48000       Yes\n",
            "2  Germany   30   54000        No\n",
            "3    Spain   38   61000        No\n",
            "4  Germany   40   68000       Yes\n"
          ],
          "name": "stdout"
        },
        {
          "output_type": "display_data",
          "data": {
            "image/png": "[encoded data removed]",
            "text/plain": [
              "<Figure size 432x288 with 1 Axes>"
            ]
          },
          "metadata": {
            "tags": [],
            "needs_background": "light"
          }
        }
      ]
    },
    {
      "cell_type": "code",
      "metadata": {
        "colab": {
          "base_uri": "https://localhost:8080/",
          "height": 265
        },
        "id": "_lr4te43hYfD",
        "outputId": "1e3117cb-3835-4c08-eb7f-20d3a4b8cded"
      },
      "source": [
        "# 2nd plot\n",
        "plt.hist(main_data[\"Salary\"], bins = 10, color = \"yellow\")\n",
        "plt.show()"
      ],
      "execution_count": 20,
      "outputs": [
        {
          "output_type": "display_data",
          "data": {
            "image/png": "[encoded data removed]",
            "text/plain": [
              "<Figure size 432x288 with 1 Axes>"
            ]
          },
          "metadata": {
            "tags": [],
            "needs_background": "light"
          }
        }
      ]
    },
    {
      "cell_type": "code",
      "metadata": {
        "colab": {
          "base_uri": "https://localhost:8080/",
          "height": 350
        },
        "id": "Qgo7Tfb9hcDY",
        "outputId": "8ee5e59b-5797-4537-ed81-5a21939f6f25"
      },
      "source": [
        "# 3rd plot\n",
        "fig_size = plt.figure(figsize=(7, 5))\n",
        "plt.bar(main_data[\"Country\"], main_data[\"Salary\"], color=\"green\")\n",
        "plt.xlabel(\"Salaries\")\n",
        "plt.ylabel(\"Countries\")\n",
        "plt.title(\"Bar chart of country vs salary\")\n",
        "plt.show()"
      ],
      "execution_count": 22,
      "outputs": [
        {
          "output_type": "display_data",
          "data": {
            "image/png": "[encoded data removed]",
            "text/plain": [
              "<Figure size 504x360 with 1 Axes>"
            ]
          },
          "metadata": {
            "tags": [],
            "needs_background": "light"
          }
        }
      ]
    },
    {
      "cell_type": "code",
      "metadata": {
        "id": "8Zu9JcvJhnp2"
      },
      "source": [
        ""
      ],
      "execution_count": null,
      "outputs": []
    }
  ]
}