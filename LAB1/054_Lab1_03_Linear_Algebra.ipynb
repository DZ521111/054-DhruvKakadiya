{
  "nbformat": 4,
  "nbformat_minor": 0,
  "metadata": {
    "colab": {
      "name": "054_Lab1_03_Linear_Algebra.ipynb",
      "provenance": [],
      "collapsed_sections": []
    },
    "kernelspec": {
      "name": "python3",
      "display_name": "Python 3"
    },
    "language_info": {
      "name": "python"
    }
  },
  "cells": [
    {
      "cell_type": "code",
      "metadata": {
        "colab": {
          "base_uri": "https://localhost:8080/"
        },
        "id": "Wytm29pC8GxP",
        "outputId": "da5a9016-09c8-4db0-cfc4-d4d8130ba580"
      },
      "source": [
        "from google.colab import drive\n",
        "drive.mount(\"/content/drive\")"
      ],
      "execution_count": null,
      "outputs": [
        {
          "output_type": "stream",
          "text": [
            "Mounted at /content/drive\n"
          ],
          "name": "stdout"
        }
      ]
    },
    {
      "cell_type": "code",
      "metadata": {
        "id": "NLhsXKXm8wDd"
      },
      "source": [
        "import numpy as np\n",
        "import pandas as pd"
      ],
      "execution_count": null,
      "outputs": []
    },
    {
      "cell_type": "code",
      "metadata": {
        "colab": {
          "base_uri": "https://localhost:8080/"
        },
        "id": "YrMwOlBi9RHU",
        "outputId": "1e7e9361-a3ac-4583-857d-d1feafb6807d"
      },
      "source": [
        "# two matrics\n",
        "array1 = np.array([[5, 9, 3],[3, 7, 5]])\n",
        "array2 = np.array([[3,-9],[5, 4],[7, -8]])\n",
        "print(nparr1)\n",
        "print(nparr2)"
      ],
      "execution_count": null,
      "outputs": [
        {
          "output_type": "stream",
          "text": [
            "[[5 9 3]\n",
            " [3 7 5]]\n",
            "[[ 3 -9]\n",
            " [ 5  4]\n",
            " [ 7 -8]]\n"
          ],
          "name": "stdout"
        }
      ]
    },
    {
      "cell_type": "code",
      "metadata": {
        "colab": {
          "base_uri": "https://localhost:8080/"
        },
        "id": "0G4ztctz9iph",
        "outputId": "a4c9734e-ed2e-4568-e704-ad10dcfec9ef"
      },
      "source": [
        "randomly initialize array\n",
        "array = np.random.rand(3, 4)\n",
        "print(array)"
      ],
      "execution_count": null,
      "outputs": [
        {
          "output_type": "stream",
          "text": [
            "[[0.76810286 0.40448179 0.10986688 0.85349965]\n",
            " [0.12693145 0.15971347 0.94501679 0.51506791]\n",
            " [0.91151782 0.2709498  0.20979806 0.8518862 ]]\n"
          ],
          "name": "stdout"
        }
      ]
    },
    {
      "cell_type": "code",
      "metadata": {
        "colab": {
          "base_uri": "https://localhost:8080/"
        },
        "id": "pGD17M4e9t9Z",
        "outputId": "cbfdeb4b-5aef-4edb-ff7d-2f1060dc2ee2"
      },
      "source": [
        "# perform matrix multiplication\n",
        "mul = np.dot(array1, array2)\n",
        "print(mul)"
      ],
      "execution_count": null,
      "outputs": [
        {
          "output_type": "stream",
          "text": [
            "[[ 81 -33]\n",
            " [ 79 -39]]\n"
          ],
          "name": "stdout"
        }
      ]
    },
    {
      "cell_type": "code",
      "metadata": {
        "colab": {
          "base_uri": "https://localhost:8080/"
        },
        "id": "mCT8XbnA926h",
        "outputId": "3d57e96c-a7e2-4e95-b264-855251e8d6b8"
      },
      "source": [
        "# perform element wise matrix multiplication\n",
        "res = [[0 for x in range(len(nparr1))] for y in range(len(nparr2[0]))]\n",
        "\n",
        "for i in range(len(array1)): \n",
        "  for j in range(len(array2[0])): \n",
        "    for k in range(len(array2)): \n",
        "      res[i][j] += array1[i][k] * array2[k][j]\n",
        " \n",
        "print (res) "
      ],
      "execution_count": null,
      "outputs": [
        {
          "output_type": "stream",
          "text": [
            "[[81, -33], [79, -39]]\n"
          ],
          "name": "stdout"
        }
      ]
    },
    {
      "cell_type": "code",
      "metadata": {
        "colab": {
          "base_uri": "https://localhost:8080/"
        },
        "id": "pmbcqzXg-SsJ",
        "outputId": "ef6e75f2-b1f1-43b4-a8e1-e53aef2ccf96"
      },
      "source": [
        "# mean of first matrix\n",
        "mean = np.mean(array1)\n",
        "print(mean)"
      ],
      "execution_count": null,
      "outputs": [
        {
          "output_type": "stream",
          "text": [
            "5.333333333333333\n"
          ],
          "name": "stdout"
        }
      ]
    },
    {
      "cell_type": "code",
      "metadata": {
        "id": "AOi7uQv-SdIm"
      },
      "source": [
        "main_data = pd.read_csv(\"/content/drive/MyDrive/Sem7_ML_Data/LAB01/mtcars.csv\")"
      ],
      "execution_count": null,
      "outputs": []
    },
    {
      "cell_type": "code",
      "metadata": {
        "colab": {
          "base_uri": "https://localhost:8080/"
        },
        "id": "WQvwWW_ATFPq",
        "outputId": "7d87089c-3b71-4002-b212-7522c9ed66f6"
      },
      "source": [
        "del main_data['model']\n",
        "# meancenter\n",
        "meancenter = main_data.apply(lambda e: e - e.mean())\n",
        "print(meancenter.head())\n"
      ],
      "execution_count": null,
      "outputs": [
        {
          "output_type": "stream",
          "text": [
            "        mpg     cyl        disp       hp  ...      vs       am    gear    carb\n",
            "0  0.909375 -0.1875  -70.721875 -36.6875  ... -0.4375  0.59375  0.3125  1.1875\n",
            "1  0.909375 -0.1875  -70.721875 -36.6875  ... -0.4375  0.59375  0.3125  1.1875\n",
            "2  2.709375 -2.1875 -122.721875 -53.6875  ...  0.5625  0.59375  0.3125 -1.8125\n",
            "3  1.309375 -0.1875   27.278125 -36.6875  ...  0.5625 -0.40625 -0.6875 -1.8125\n",
            "4 -1.390625  1.8125  129.278125  28.3125  ... -0.4375 -0.40625 -0.6875 -0.8125\n",
            "\n",
            "[5 rows x 11 columns]\n"
          ],
          "name": "stdout"
        }
      ]
    },
    {
      "cell_type": "code",
      "metadata": {
        "id": "yLR1NUfNUDvX"
      },
      "source": [
        "# Tasks which are already performed by professor \n",
        "# Pandas Matplotlib\n",
        "import numpy as np"
      ],
      "execution_count": 3,
      "outputs": []
    },
    {
      "cell_type": "code",
      "metadata": {
        "id": "QORklIB8CWXr"
      },
      "source": [
        "alist = [1, 2, 3, 4, 5] # Define a python list. It looks like an np array\n",
        "narray = np.array([1, 2, 3, 4]) # Define a numpy array"
      ],
      "execution_count": 4,
      "outputs": []
    },
    {
      "cell_type": "code",
      "metadata": {
        "colab": {
          "base_uri": "https://localhost:8080/"
        },
        "id": "pYiY7GoCCf3S",
        "outputId": "d94a3a08-3c27-4119-9fd2-b18853ee52e4"
      },
      "source": [
        "print(alist)\n",
        "print(narray)\n",
        "print(type(alist))\n",
        "print(type(narray))"
      ],
      "execution_count": 5,
      "outputs": [
        {
          "output_type": "stream",
          "text": [
            "[1, 2, 3, 4, 5]\n",
            "[1 2 3 4]\n",
            "<class 'list'>\n",
            "<class 'numpy.ndarray'>\n"
          ],
          "name": "stdout"
        }
      ]
    },
    {
      "cell_type": "code",
      "metadata": {
        "id": "xaKA-yCxCoHa"
      },
      "source": [
        "# Numpy array vs python list"
      ],
      "execution_count": 6,
      "outputs": []
    },
    {
      "cell_type": "code",
      "metadata": {
        "colab": {
          "base_uri": "https://localhost:8080/"
        },
        "id": "Df2YDio2CwKt",
        "outputId": "0c87c48b-039b-49de-a4d6-d306924e27fc"
      },
      "source": [
        "print(narray + narray)\n",
        "print(alist + alist)"
      ],
      "execution_count": 7,
      "outputs": [
        {
          "output_type": "stream",
          "text": [
            "[2 4 6 8]\n",
            "[1, 2, 3, 4, 5, 1, 2, 3, 4, 5]\n"
          ],
          "name": "stdout"
        }
      ]
    },
    {
      "cell_type": "code",
      "metadata": {
        "colab": {
          "base_uri": "https://localhost:8080/"
        },
        "id": "IvALVRAJC8_y",
        "outputId": "7f28be60-a955-4be2-f758-eb2c10d12aa8"
      },
      "source": [
        "print(narray * 3)\n",
        "print(alist * 3)"
      ],
      "execution_count": 8,
      "outputs": [
        {
          "output_type": "stream",
          "text": [
            "[ 3  6  9 12]\n",
            "[1, 2, 3, 4, 5, 1, 2, 3, 4, 5, 1, 2, 3, 4, 5]\n"
          ],
          "name": "stdout"
        }
      ]
    },
    {
      "cell_type": "code",
      "metadata": {
        "id": "b9h9Gh1rDAGy"
      },
      "source": [
        "# Matrix or Arrays of Array"
      ],
      "execution_count": 9,
      "outputs": []
    },
    {
      "cell_type": "code",
      "metadata": {
        "colab": {
          "base_uri": "https://localhost:8080/"
        },
        "id": "be7AM97YDaf7",
        "outputId": "86b3d89f-c921-4384-ad33-80dd61931dbd"
      },
      "source": [
        "npmatrix1 = np.array([narray, narray, narray]) # Matrix initialized with NumPy arrays\n",
        "npmatrix2 = np.array([alist, alist, alist]) # Matrix initialized with lists\n",
        "npmatrix3 = np.array([narray, [1, 1, 1, 1], narray]) # Matrix initialized with both types\n",
        "print(npmatrix1)\n",
        "print(npmatrix2)\n",
        "print(npmatrix3)"
      ],
      "execution_count": 11,
      "outputs": [
        {
          "output_type": "stream",
          "text": [
            "[[1 2 3 4]\n",
            " [1 2 3 4]\n",
            " [1 2 3 4]]\n",
            "[[1 2 3 4 5]\n",
            " [1 2 3 4 5]\n",
            " [1 2 3 4 5]]\n",
            "[[1 2 3 4]\n",
            " [1 1 1 1]\n",
            " [1 2 3 4]]\n"
          ],
          "name": "stdout"
        }
      ]
    },
    {
      "cell_type": "code",
      "metadata": {
        "colab": {
          "base_uri": "https://localhost:8080/"
        },
        "id": "tT3n631uDeZw",
        "outputId": "b67e8eea-3f69-4fa4-9066-1cf902618462"
      },
      "source": [
        "# Example 1:\n",
        "okmatrix = np.array([[1, 2], [3, 4]]) # Define a 2x2 matrix\n",
        "print(okmatrix) # Print okmatrix\n",
        "print(okmatrix * 2) # Print a scaled version of okmatrix"
      ],
      "execution_count": 12,
      "outputs": [
        {
          "output_type": "stream",
          "text": [
            "[[1 2]\n",
            " [3 4]]\n",
            "[[2 4]\n",
            " [6 8]]\n"
          ],
          "name": "stdout"
        }
      ]
    },
    {
      "cell_type": "code",
      "metadata": {
        "colab": {
          "base_uri": "https://localhost:8080/"
        },
        "id": "xxjJRxlLDmT6",
        "outputId": "7ffd54fa-51f6-453b-e88c-d0341955f271"
      },
      "source": [
        "# Example 2:\n",
        "badmatrix = np.array([[1, 2], [3, 4], [5, 6, 7]]) # Define a matrix. Note the third row contains 3 elements\n",
        "print(badmatrix) # Print the malformed matrix\n",
        "print(badmatrix * 2) # It is supposed to scale the whole matrix"
      ],
      "execution_count": 14,
      "outputs": [
        {
          "output_type": "stream",
          "text": [
            "[list([1, 2]) list([3, 4]) list([5, 6, 7])]\n",
            "[list([1, 2, 1, 2]) list([3, 4, 3, 4]) list([5, 6, 7, 5, 6, 7])]\n"
          ],
          "name": "stdout"
        },
        {
          "output_type": "stream",
          "text": [
            "/usr/local/lib/python3.7/dist-packages/ipykernel_launcher.py:2: VisibleDeprecationWarning: Creating an ndarray from ragged nested sequences (which is a list-or-tuple of lists-or-tuples-or ndarrays with different lengths or shapes) is deprecated. If you meant to do this, you must specify 'dtype=object' when creating the ndarray\n",
            "  \n"
          ],
          "name": "stderr"
        }
      ]
    },
    {
      "cell_type": "code",
      "metadata": {
        "id": "YpO93ZEJDphz"
      },
      "source": [
        "# Scaling and translating matrices"
      ],
      "execution_count": 15,
      "outputs": []
    },
    {
      "cell_type": "code",
      "metadata": {
        "colab": {
          "base_uri": "https://localhost:8080/"
        },
        "id": "sxBIS2KFD0a6",
        "outputId": "d7cd94e9-482e-456d-c7ad-39ce9c4dfe98"
      },
      "source": [
        "# Scale by 2 and translate 1 unit the matrix\n",
        "result = okmatrix * 2 + 1 # For each element in the matrix, multiply by 2 and add 1\n",
        "print(result)"
      ],
      "execution_count": 16,
      "outputs": [
        {
          "output_type": "stream",
          "text": [
            "[[3 5]\n",
            " [7 9]]\n"
          ],
          "name": "stdout"
        }
      ]
    },
    {
      "cell_type": "code",
      "metadata": {
        "colab": {
          "base_uri": "https://localhost:8080/"
        },
        "id": "fttnl9_5D3Ay",
        "outputId": "847e9432-502e-4fba-cf3c-9883935bea4c"
      },
      "source": [
        "# Add two sum compatible matrices\n",
        "result1 = okmatrix + okmatrix\n",
        "print(result1)\n",
        "# Subtract two sum compatible matrices. This is called the difference vector\n",
        "result2 = okmatrix - okmatrix\n",
        "print(result2)"
      ],
      "execution_count": 17,
      "outputs": [
        {
          "output_type": "stream",
          "text": [
            "[[2 4]\n",
            " [6 8]]\n",
            "[[0 0]\n",
            " [0 0]]\n"
          ],
          "name": "stdout"
        }
      ]
    },
    {
      "cell_type": "code",
      "metadata": {
        "colab": {
          "base_uri": "https://localhost:8080/"
        },
        "id": "eJsqm2RGD5Zb",
        "outputId": "2c6c63b3-0a43-406d-98c4-7e27a8082478"
      },
      "source": [
        "result = okmatrix * okmatrix # Multiply each element by itself\n",
        "print(result)"
      ],
      "execution_count": 18,
      "outputs": [
        {
          "output_type": "stream",
          "text": [
            "[[ 1  4]\n",
            " [ 9 16]]\n"
          ],
          "name": "stdout"
        }
      ]
    },
    {
      "cell_type": "code",
      "metadata": {
        "id": "DmC_t4SxD-qw"
      },
      "source": [
        "# Transpose of a matrix"
      ],
      "execution_count": 19,
      "outputs": []
    },
    {
      "cell_type": "code",
      "metadata": {
        "colab": {
          "base_uri": "https://localhost:8080/"
        },
        "id": "DFeda1P9EGi8",
        "outputId": "177a1eeb-372b-4768-f2f3-638f3b003b76"
      },
      "source": [
        "matrix3x2 = np.array([[1, 2], [3, 4], [5, 6]]) # Define a 3x2 matrix\n",
        "print('Original matrix 3 x 2')\n",
        "print(matrix3x2)\n",
        "print('Transposed matrix 2 x 3')\n",
        "print(matrix3x2.T)"
      ],
      "execution_count": 20,
      "outputs": [
        {
          "output_type": "stream",
          "text": [
            "Original matrix 3 x 2\n",
            "[[1 2]\n",
            " [3 4]\n",
            " [5 6]]\n",
            "Transposed matrix 2 x 3\n",
            "[[1 3 5]\n",
            " [2 4 6]]\n"
          ],
          "name": "stdout"
        }
      ]
    },
    {
      "cell_type": "code",
      "metadata": {
        "colab": {
          "base_uri": "https://localhost:8080/"
        },
        "id": "bFmD2gecEpvj",
        "outputId": "3e597646-d467-4daf-b11a-43df9f30e74f"
      },
      "source": [
        "nparray = np.array([1, 2, 3, 4]) # Define an array\n",
        "print('Original array')\n",
        "print(nparray)\n",
        "print('Transposed array')\n",
        "print(nparray.T)"
      ],
      "execution_count": 21,
      "outputs": [
        {
          "output_type": "stream",
          "text": [
            "Original array\n",
            "[1 2 3 4]\n",
            "Transposed array\n",
            "[1 2 3 4]\n"
          ],
          "name": "stdout"
        }
      ]
    },
    {
      "cell_type": "code",
      "metadata": {
        "colab": {
          "base_uri": "https://localhost:8080/"
        },
        "id": "TYodTeO7Es5B",
        "outputId": "81f9b850-30a4-4966-a791-ff27f81877b3"
      },
      "source": [
        "nparray = np.array([[1, 2, 3, 4]]) # Define a 1 x 4 matrix. Note the 2 level of square brackets\n",
        "print('Original array')\n",
        "print(nparray)\n",
        "print('Transposed array')\n",
        "print(nparray.T)"
      ],
      "execution_count": 23,
      "outputs": [
        {
          "output_type": "stream",
          "text": [
            "Original array\n",
            "[[1 2 3 4]]\n",
            "Transposed array\n",
            "[[1]\n",
            " [2]\n",
            " [3]\n",
            " [4]]\n"
          ],
          "name": "stdout"
        }
      ]
    },
    {
      "cell_type": "code",
      "metadata": {
        "colab": {
          "base_uri": "https://localhost:8080/"
        },
        "id": "6BdQenLaEyer",
        "outputId": "b9d89fef-751f-4e67-f781-9ecec47fe0cc"
      },
      "source": [
        "nparray1 = np.array([1, 2, 3, 4]) # Define an array\n",
        "norm1 = np.linalg.norm(nparray1)\n",
        "nparray2 = np.array([[1, 2], [3, 4]]) # Define a 2 x 2 matrix. Note the 2 level of square brackets\n",
        "norm2 = np.linalg.norm(nparray2)\n",
        "print(norm1)\n",
        "print(norm2)"
      ],
      "execution_count": 25,
      "outputs": [
        {
          "output_type": "stream",
          "text": [
            "5.477225575051661\n",
            "5.477225575051661\n"
          ],
          "name": "stdout"
        }
      ]
    },
    {
      "cell_type": "code",
      "metadata": {
        "colab": {
          "base_uri": "https://localhost:8080/"
        },
        "id": "iDRsDAwAE4Xp",
        "outputId": "7e674d9a-fa21-4c6d-9cce-42fb2f3ee168"
      },
      "source": [
        "nparray2 = np.array([[1, 1], [2, 2], [3, 3]]) # Define a 3 x 2 matrix.\n",
        "normByCols = np.linalg.norm(nparray2, axis=0) # Get the norm for each column. Returns 2 elements\n",
        "normByRows = np.linalg.norm(nparray2, axis=1) # get the norm for each row. Returns 3 elements\n",
        "print(normByCols)\n",
        "print(normByRows)"
      ],
      "execution_count": 26,
      "outputs": [
        {
          "output_type": "stream",
          "text": [
            "[3.74165739 3.74165739]\n",
            "[1.41421356 2.82842712 4.24264069]\n"
          ],
          "name": "stdout"
        }
      ]
    },
    {
      "cell_type": "code",
      "metadata": {
        "id": "Vz64qIjyE_hC"
      },
      "source": [
        "# dot products between arrays"
      ],
      "execution_count": 27,
      "outputs": []
    },
    {
      "cell_type": "code",
      "metadata": {
        "colab": {
          "base_uri": "https://localhost:8080/"
        },
        "id": "VPty_gJtFESc",
        "outputId": "722fc3b1-6d51-426c-abd7-f117a89e76c9"
      },
      "source": [
        "nparray1 = np.array([0, 1, 2, 3]) # Define an array\n",
        "nparray2 = np.array([4, 5, 6, 7]) # Define an array\n",
        "flavor1 = np.dot(nparray1, nparray2) # Way-1\n",
        "print(flavor1)\n",
        "flavor2 = np.sum(nparray1 * nparray2) # Way-2\n",
        "print(flavor2)\n",
        "flavor3 = nparray1 @ nparray2 # Way-3\n",
        "print(flavor3)\n",
        "# As you never should do: #Way-4\n",
        "flavor4 = 0\n",
        "for a, b in zip(nparray1, nparray2):\n",
        "  flavor4 += a * b\n",
        "print(flavor4)"
      ],
      "execution_count": 29,
      "outputs": [
        {
          "output_type": "stream",
          "text": [
            "38\n",
            "38\n",
            "38\n",
            "38\n"
          ],
          "name": "stdout"
        }
      ]
    },
    {
      "cell_type": "code",
      "metadata": {
        "colab": {
          "base_uri": "https://localhost:8080/"
        },
        "id": "s0_ied3bFMab",
        "outputId": "a0ca17e3-a9e2-4d9a-c3d5-34cc724774c7"
      },
      "source": [
        "norm1 = np.dot(np.array([1, 2]), np.array([3, 4])) # Dot product on nparrays\n",
        "norm2 = np.dot([1, 2], [3, 4]) # Dot product on python lists\n",
        "print(norm1, '=', norm2 )"
      ],
      "execution_count": 30,
      "outputs": [
        {
          "output_type": "stream",
          "text": [
            "11 = 11\n"
          ],
          "name": "stdout"
        }
      ]
    },
    {
      "cell_type": "code",
      "metadata": {
        "id": "tUlb8DePF1Hh"
      },
      "source": [
        "# sum by rows and columns\n"
      ],
      "execution_count": 31,
      "outputs": []
    },
    {
      "cell_type": "code",
      "metadata": {
        "colab": {
          "base_uri": "https://localhost:8080/"
        },
        "id": "L4knr728F-LM",
        "outputId": "a577387a-247c-4572-ed73-ffd9d4710185"
      },
      "source": [
        " nparray2 = np.array([[1, -1], [2, -2], [3, -3]])\n",
        " sumByCols = np.sum(nparray2, axis = 0)\n",
        " sumByRows = np.sum(nparray2, axis = 1)\n",
        " print(f\"Sum by Cols : \", sumByCols)\n",
        " print(f\"Sum by Rows : \", sumByRows)"
      ],
      "execution_count": 32,
      "outputs": [
        {
          "output_type": "stream",
          "text": [
            "Sum by Cols :  [ 6 -6]\n",
            "Sum by Rows :  [0 0 0]\n"
          ],
          "name": "stdout"
        }
      ]
    },
    {
      "cell_type": "code",
      "metadata": {
        "id": "dCLHMTHoWsnN"
      },
      "source": [
        "# Get the mean by rows and cols"
      ],
      "execution_count": 33,
      "outputs": []
    },
    {
      "cell_type": "code",
      "metadata": {
        "colab": {
          "base_uri": "https://localhost:8080/"
        },
        "id": "dIoZ7OfiWypa",
        "outputId": "98af068a-9f68-4a70-c8c4-2ac149c156af"
      },
      "source": [
        "nparray2 = np.array([[1, -1], [2, -2], [3, -3]])\n",
        "mean = np.mean(nparray2)\n",
        "meanByCols = np.mean(nparray2, axis = 0)\n",
        "meanByRows = np.mean(nparray2, axis = 1)\n",
        "print(f\"Matrix mean : \", mean)\n",
        "print(f\"Mean by Cols : \", meanByCols)\n",
        "print(f\"mean by Rows : \", meanByRows)"
      ],
      "execution_count": 34,
      "outputs": [
        {
          "output_type": "stream",
          "text": [
            "Matrix mean :  0.0\n",
            "Mean by Cols :  [ 2. -2.]\n",
            "mean by Rows :  [0. 0. 0.]\n"
          ],
          "name": "stdout"
        }
      ]
    },
    {
      "cell_type": "code",
      "metadata": {
        "colab": {
          "base_uri": "https://localhost:8080/"
        },
        "id": "yEPb6MJMX6tb",
        "outputId": "2c427b8c-0949-44e4-e266-3659bea210e2"
      },
      "source": [
        "nparray2 = np.array([[1, -1], [2, -2], [3, -3]])\n",
        "nparrayCentered = nparray2 - np.mean(nparray2, axis = 0)\n",
        "print(f\"Main matrix : \", nparray2)\n",
        "print(f\"Centered by cols matrix : \", nparrayCentered)\n",
        "print(f\"New mean by cols : \", nparrayCentered.mean(axis = 0))"
      ],
      "execution_count": 35,
      "outputs": [
        {
          "output_type": "stream",
          "text": [
            "Main matrix :  [[ 1 -1]\n",
            " [ 2 -2]\n",
            " [ 3 -3]]\n",
            "Centered by cols matrix :  [[-1.  1.]\n",
            " [ 0.  0.]\n",
            " [ 1. -1.]]\n",
            "New mean by cols :  [0. 0.]\n"
          ],
          "name": "stdout"
        }
      ]
    },
    {
      "cell_type": "code",
      "metadata": {
        "colab": {
          "base_uri": "https://localhost:8080/"
        },
        "id": "eO-WeeHsYbQc",
        "outputId": "47d20896-adb8-4fb2-d3ae-1164da99ec8c"
      },
      "source": [
        "nparray2 = np.array([[1, 3], [2, 4], [3, 5]])\n",
        "nparrayCentered = nparray2.T - np.mean(nparray2, axis = 1)\n",
        "nparrayCentered = nparrayCentered.T\n",
        "print(f\"Main matrix : {nparray2}\")\n",
        "print(f\"Centered by Cols : \", nparrayCentered)\n",
        "print(f\"New mean by Rows : \", nparrayCentered.mean(axis = 1))"
      ],
      "execution_count": 36,
      "outputs": [
        {
          "output_type": "stream",
          "text": [
            "Main matrix : [[1 3]\n",
            " [2 4]\n",
            " [3 5]]\n",
            "Centered by Cols :  [[-1.  1.]\n",
            " [-1.  1.]\n",
            " [-1.  1.]]\n",
            "New mean by Rows :  [0. 0. 0.]\n"
          ],
          "name": "stdout"
        }
      ]
    },
    {
      "cell_type": "code",
      "metadata": {
        "id": "0AlkisuHZL58"
      },
      "source": [
        ""
      ],
      "execution_count": null,
      "outputs": []
    }
  ]
}