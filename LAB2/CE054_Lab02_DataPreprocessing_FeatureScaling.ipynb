{
  "nbformat": 4,
  "nbformat_minor": 0,
  "metadata": {
    "colab": {
      "name": "CE054_Lab02_DataPreprocessing_FeatureScaling.ipynb",
      "provenance": [],
      "collapsed_sections": []
    },
    "kernelspec": {
      "name": "python3",
      "display_name": "Python 3"
    },
    "language_info": {
      "name": "python"
    }
  },
  "cells": [
    {
      "cell_type": "code",
      "metadata": {
        "colab": {
          "base_uri": "https://localhost:8080/",
          "height": 35
        },
        "id": "asqMmQuxw7_C",
        "outputId": "96ba62ab-957e-42d8-b8d2-06d149dd5d5a"
      },
      "source": [
        "'''\n",
        "Author: Dhruv B Kakadiya\n",
        "\n",
        "'''"
      ],
      "execution_count": 15,
      "outputs": [
        {
          "output_type": "execute_result",
          "data": {
            "application/vnd.google.colaboratory.intrinsic+json": {
              "type": "string"
            },
            "text/plain": [
              "'\\nAuthor: Dhruv B Kakadiya\\n\\n'"
            ]
          },
          "metadata": {
            "tags": []
          },
          "execution_count": 15
        }
      ]
    },
    {
      "cell_type": "code",
      "metadata": {
        "colab": {
          "base_uri": "https://localhost:8080/"
        },
        "id": "kpasQmV4xRpu",
        "outputId": "151c625f-7aeb-4c46-c4d1-0774f890e976"
      },
      "source": [
        "# mount a drive\n",
        "\n",
        "from google.colab import drive\n",
        "drive.mount(\"/content/drive\")"
      ],
      "execution_count": 16,
      "outputs": [
        {
          "output_type": "stream",
          "text": [
            "Drive already mounted at /content/drive; to attempt to forcibly remount, call drive.mount(\"/content/drive\", force_remount=True).\n"
          ],
          "name": "stdout"
        }
      ]
    },
    {
      "cell_type": "code",
      "metadata": {
        "id": "4NTdFNrJxugH"
      },
      "source": [
        "# import libraries\n",
        "\n",
        "import numpy as np\n",
        "import pandas as pd\n",
        "import matplotlib.pyplot as plt\n",
        "import sklearn"
      ],
      "execution_count": 17,
      "outputs": []
    },
    {
      "cell_type": "code",
      "metadata": {
        "colab": {
          "base_uri": "https://localhost:8080/"
        },
        "id": "uxD0N6Qpyax2",
        "outputId": "8d1d8c35-357e-42d5-c88e-6441dfd330ab"
      },
      "source": [
        "# Reading Data from drive\n",
        "\n",
        "main_data = pd.read_csv(\"/content/drive/MyDrive/Sem7_ML_Data/LAB02/Exercise-CarData.csv\")\n",
        "print(\"\\nData :\\n\", main_data)\n",
        "\n",
        "print(\"\\nData statistics\\n\", main_data.describe())\n",
        "\n",
        "#Seprate Input and Output attributes\n",
        "X = main_data.iloc[:, :-1].values \n",
        "Y = main_data.iloc[:, -1].values \n",
        "\n",
        "print(\"\\n\\nInput : \\n\", X) \n",
        "print(\"\\n\\nOutput: \\n\", Y) \n",
        "\n",
        "X_new = main_data.iloc[:, 2:6].values\n",
        "print(\"\\n\\nX for transformation : \\n\", X_new)"
      ],
      "execution_count": 18,
      "outputs": [
        {
          "output_type": "stream",
          "text": [
            "\n",
            "Data :\n",
            "       Unnamed: 0  Price   Age     KM  ... Automatic    CC  Doors  Weight\n",
            "0              0  13500  23.0  46986  ...         0  2000  three    1165\n",
            "1              1  13750  23.0  72937  ...         0  2000      3    1165\n",
            "2              2  13950  24.0  41711  ...         0  2000      3    1165\n",
            "3              3  14950  26.0  48000  ...         0  2000      3    1165\n",
            "4              4  13750  30.0  38500  ...         0  2000      3    1170\n",
            "...          ...    ...   ...    ...  ...       ...   ...    ...     ...\n",
            "1431        1431   7500   NaN  20544  ...         0  1300      3    1025\n",
            "1432        1432  10845  72.0     ??  ...         0  1300      3    1015\n",
            "1433        1433   8500   NaN  17016  ...         0  1300      3    1015\n",
            "1434        1434   7250  70.0     ??  ...         0  1300      3    1015\n",
            "1435        1435   6950  76.0      1  ...         0  1600      5    1114\n",
            "\n",
            "[1436 rows x 11 columns]\n",
            "\n",
            "Data statistics\n",
            "         Unnamed: 0         Price  ...           CC      Weight\n",
            "count  1436.000000   1436.000000  ...  1436.000000  1436.00000\n",
            "mean    717.500000  10730.824513  ...  1566.827994  1072.45961\n",
            "std     414.681806   3626.964585  ...   187.182436    52.64112\n",
            "min       0.000000   4350.000000  ...  1300.000000  1000.00000\n",
            "25%     358.750000   8450.000000  ...  1400.000000  1040.00000\n",
            "50%     717.500000   9900.000000  ...  1600.000000  1070.00000\n",
            "75%    1076.250000  11950.000000  ...  1600.000000  1085.00000\n",
            "max    1435.000000  32500.000000  ...  2000.000000  1615.00000\n",
            "\n",
            "[8 rows x 7 columns]\n",
            "\n",
            "\n",
            "Input : \n",
            " [[0 13500 23.0 ... 0 2000 'three']\n",
            " [1 13750 23.0 ... 0 2000 '3']\n",
            " [2 13950 24.0 ... 0 2000 '3']\n",
            " ...\n",
            " [1433 8500 nan ... 0 1300 '3']\n",
            " [1434 7250 70.0 ... 0 1300 '3']\n",
            " [1435 6950 76.0 ... 0 1600 '5']]\n",
            "\n",
            "\n",
            "Output: \n",
            " [1165 1165 1165 ... 1015 1015 1114]\n",
            "\n",
            "\n",
            "X for transformation : \n",
            " [[23.0 '46986' 'Diesel' '90']\n",
            " [23.0 '72937' 'Diesel' '90']\n",
            " [24.0 '41711' 'Diesel' '90']\n",
            " ...\n",
            " [nan '17016' 'Petrol' '86']\n",
            " [70.0 '??' nan '86']\n",
            " [76.0 '1' 'Petrol' '110']]\n"
          ],
          "name": "stdout"
        }
      ]
    },
    {
      "cell_type": "code",
      "metadata": {
        "colab": {
          "base_uri": "https://localhost:8080/"
        },
        "id": "kFGi8bqE0E2p",
        "outputId": "89858b64-7dbb-4a61-84c2-ad2716fcfe6b"
      },
      "source": [
        "# processing columns which are unused.\n",
        "\n",
        "from sklearn.impute import SimpleImputer\n",
        "\n",
        "# using sklearn.impute => SimpleImputer\n",
        "imputer = SimpleImputer(missing_values = np.nan, strategy = \"mean\")\n",
        "imputer = imputer.fit(X[:, [2, 6]])\n",
        "print(f\"\\nImputer :- {imputer}\")\n",
        "\n",
        "# Transform data for columns 2 to 6\n",
        "X[:, [2, 6]] = imputer.transform(X[:, [2, 6]])\n",
        "print(f\"\\n\\nX is :- {X}\")\n",
        "\n",
        "imputer = SimpleImputer(missing_values = np.nan, strategy = \"most_frequent\")\n",
        "\n",
        "imputer = imputer.fit(X[:, [4, 9]])\n",
        "print(f\"\\n\\nImputer :- {imputer}\")\n",
        "\n",
        "# Transform data for columns 4 to 9\n",
        "X[:, [4, 9]] = imputer.transform(X[:, [4, 9]])\n",
        "print(f\"\\n\\nX is :- {X}\") "
      ],
      "execution_count": 19,
      "outputs": [
        {
          "output_type": "stream",
          "text": [
            "\n",
            "Imputer :- SimpleImputer(add_indicator=False, copy=True, fill_value=None,\n",
            "              missing_values=nan, strategy='mean', verbose=0)\n",
            "\n",
            "\n",
            "X is :- [[0 13500 23.0 ... 0 2000 'three']\n",
            " [1 13750 23.0 ... 0 2000 '3']\n",
            " [2 13950 24.0 ... 0 2000 '3']\n",
            " ...\n",
            " [1433 8500 55.67215568862275 ... 0 1300 '3']\n",
            " [1434 7250 70.0 ... 0 1300 '3']\n",
            " [1435 6950 76.0 ... 0 1600 '5']]\n",
            "\n",
            "\n",
            "Imputer :- SimpleImputer(add_indicator=False, copy=True, fill_value=None,\n",
            "              missing_values=nan, strategy='most_frequent', verbose=0)\n",
            "\n",
            "\n",
            "X is :- [[0 13500 23.0 ... 0 2000 'three']\n",
            " [1 13750 23.0 ... 0 2000 '3']\n",
            " [2 13950 24.0 ... 0 2000 '3']\n",
            " ...\n",
            " [1433 8500 55.67215568862275 ... 0 1300 '3']\n",
            " [1434 7250 70.0 ... 0 1300 '3']\n",
            " [1435 6950 76.0 ... 0 1600 '5']]\n"
          ],
          "name": "stdout"
        }
      ]
    },
    {
      "cell_type": "code",
      "metadata": {
        "colab": {
          "base_uri": "https://localhost:8080/"
        },
        "id": "j1rozpJl4UP5",
        "outputId": "bd94d92a-154a-45f3-c09d-dc7152c48743"
      },
      "source": [
        "# MinMaxScaler and StandardScaler Libraries\n",
        "\n",
        "from sklearn.preprocessing import MinMaxScaler, StandardScaler\n",
        "\n",
        "X_temp = X[:, [1, 2, 6, 7, 8]]\n",
        "\n",
        "# building scaler object\n",
        "scaler = MinMaxScaler()\n",
        "\n",
        "# scaled x_temp\n",
        "scaled_x = scaler.fit_transform(X_temp)\n",
        "print(f\"\\n\\nScaled _x :- {scaled_x}\")\n",
        "\n",
        "# now standard scaler\n",
        "stad = StandardScaler()\n",
        "std_x = stad.fit_transform(scaled_x)\n",
        "print(f\"\\n\\nstandard x :- {std_x}\")"
      ],
      "execution_count": 23,
      "outputs": [
        {
          "output_type": "stream",
          "text": [
            "\n",
            "\n",
            "Scaled _x :- [[0.3250444  0.27848101 1.         0.         1.        ]\n",
            " [0.3339254  0.27848101 1.         0.         1.        ]\n",
            " [0.3410302  0.29113924 0.67496112 0.         1.        ]\n",
            " ...\n",
            " [0.14742451 0.6920526  0.         0.         0.        ]\n",
            " [0.10301954 0.87341772 1.         0.         0.        ]\n",
            " [0.09236234 0.94936709 0.         0.         0.42857143]]\n",
            "\n",
            "\n",
            "standard x :- [[ 7.63762679e-01 -1.82280225e+00  7.33305621e-01 -2.42893084e-01\n",
            "   2.31497633e+00]\n",
            " [ 8.32714853e-01 -1.82280225e+00  7.33305621e-01 -2.42893084e-01\n",
            "   2.31497633e+00]\n",
            " [ 8.87876592e-01 -1.76701156e+00  0.00000000e+00 -2.42893084e-01\n",
            "   2.31497633e+00]\n",
            " ...\n",
            " [-6.15280799e-01 -4.89326897e-16 -1.52274947e+00 -2.42893084e-01\n",
            "  -1.42599356e+00]\n",
            " [-9.60041669e-01  7.99360384e-01  7.33305621e-01 -2.42893084e-01\n",
            "  -1.42599356e+00]\n",
            " [-1.04278428e+00  1.13410455e+00 -1.52274947e+00 -2.42893084e-01\n",
            "   1.77279249e-01]]\n"
          ],
          "name": "stdout"
        }
      ]
    },
    {
      "cell_type": "code",
      "metadata": {
        "colab": {
          "base_uri": "https://localhost:8080/"
        },
        "id": "GTeWbDLWMRqe",
        "outputId": "2c4e8daa-f5b3-4d2d-8625-be38884f609f"
      },
      "source": [
        "# Now I going to use label encoder for petrol, diesel ....\n",
        "\n",
        "from sklearn import preprocessing\n",
        "\n",
        "label_encode = preprocessing.LabelEncoder()\n",
        "X[ : , 4] = label_encode.fit_transform(X[ : ,4])\n",
        "X[ : , 9] = label_encode.fit_transform(X[ : ,9])\n",
        "\n",
        "# dummy columns for Doors\n",
        "duplicate_data = pd.get_dummies(main_data['Doors'])\n",
        "# print(f\"\\n\\nDuplicate Data :- {duplicate_data}\")\n",
        "main_data = main_data.drop(['Doors', ], axis = 1)\n",
        "main_data = pd.concat([duplicate_data, main_data], axis = 1)\n",
        "\n",
        "# dummy columns for fuel type\n",
        "diplicate_data = pd.get_dummies(main_data['FuelType'])\n",
        "# print(f\"\\n\\nDuplicate Data :- {duplicate_data}\")\n",
        "main_data = main_data.drop(['FuelType',], axis = 1)\n",
        "main_data = pd.concat([duplicate_data, main_data], axis = 1)\n",
        "\n",
        "print(\"\\n\\nLast Data Heads \\n\",main_data.head(20))\n",
        "print(\"\\n\\nLast Data Tails \\n\",main_data.tail(20))\n",
        "\n",
        "\n"
      ],
      "execution_count": 32,
      "outputs": [
        {
          "output_type": "stream",
          "text": [
            "\n",
            "\n",
            "Last Data Heads \n",
            "     2  3  4  5  five  four  ...     KM    HP  MetColor  Automatic    CC  Weight\n",
            "0   0  0  0  0     0     0  ...  46986    90       1.0          0  2000    1165\n",
            "1   0  1  0  0     0     0  ...  72937    90       1.0          0  2000    1165\n",
            "2   0  1  0  0     0     0  ...  41711    90       NaN          0  2000    1165\n",
            "3   0  1  0  0     0     0  ...  48000    90       0.0          0  2000    1165\n",
            "4   0  1  0  0     0     0  ...  38500    90       0.0          0  2000    1170\n",
            "5   0  1  0  0     0     0  ...  61000    90       0.0          0  2000    1170\n",
            "6   0  1  0  0     0     0  ...     ??  ????       NaN          0  2000    1245\n",
            "7   0  1  0  0     0     0  ...  75889    90       1.0          0  2000    1245\n",
            "8   0  1  0  0     0     0  ...  19700   192       0.0          0  1800    1185\n",
            "9   0  1  0  0     0     0  ...  71138  ????       NaN          0  1900    1105\n",
            "10  0  1  0  0     0     0  ...  31461   192       0.0          0  1800    1185\n",
            "11  0  1  0  0     0     0  ...  43610   192       0.0          0  1800    1185\n",
            "12  0  1  0  0     0     0  ...  32189   192       0.0          0  1800    1185\n",
            "13  0  1  0  0     0     0  ...  23000   192       1.0          0  1800    1185\n",
            "14  0  1  0  0     0     0  ...  34131   192       1.0          0  1800    1185\n",
            "15  0  1  0  0     0     0  ...  18739  ????       0.0          0  1800    1185\n",
            "16  0  1  0  0     0     0  ...  34000   192       1.0          0  1800    1185\n",
            "17  0  1  0  0     0     0  ...  21716   110       1.0          0  1600    1105\n",
            "18  0  1  0  0     0     0  ...  25563   110       0.0          0  1600    1065\n",
            "19  0  1  0  0     0     0  ...  64359   110       1.0          0  1600    1105\n",
            "\n",
            "[20 rows x 23 columns]\n",
            "\n",
            "\n",
            "Last Data Tails \n",
            "       2  3  4  5  five  four  ...     KM   HP  MetColor  Automatic    CC  Weight\n",
            "1416  0  0  0  1     0     0  ...  40093  110       0.0          0  1600    1114\n",
            "1417  0  1  0  0     0     0  ...  39800  107       0.0          1  1600    1080\n",
            "1418  0  1  0  0     0     0  ...  39168   86       NaN          0  1300    1015\n",
            "1419  0  1  0  0     0     0  ...  38945  110       NaN          0  1600    1050\n",
            "1420  0  0  1  0     0     0  ...  36537  110       0.0          1  1600    1075\n",
            "1421  0  1  0  0     0     0  ...     ??   86       0.0          1  1300    1045\n",
            "1422  0  1  0  0     0     0  ...  36000  110       1.0          0  1600    1050\n",
            "1423  0  1  0  0     0     0  ...  35821   86       0.0          1  1300    1015\n",
            "1424  0  1  0  0     0     0  ...  34717   86       0.0          0  1300    1015\n",
            "1425  0  0  1  0     0     0  ...     ??   86       1.0          0  1300    1000\n",
            "1426  0  1  0  0     0     0  ...  30964  110       NaN          1  1600    1080\n",
            "1427  0  1  0  0     0     0  ...  29000   86       1.0          1  1300    1045\n",
            "1428  0  1  0  0     0     0  ...     ??   86       NaN          0  1300    1015\n",
            "1429  0  0  0  1     0     0  ...  24000   86       1.0          1  1300    1065\n",
            "1430  0  1  0  0     0     0  ...  23000   86       0.0          0  1300    1015\n",
            "1431  0  1  0  0     0     0  ...  20544   86       1.0          0  1300    1025\n",
            "1432  0  1  0  0     0     0  ...     ??   86       0.0          0  1300    1015\n",
            "1433  0  1  0  0     0     0  ...  17016   86       0.0          0  1300    1015\n",
            "1434  0  1  0  0     0     0  ...     ??   86       1.0          0  1300    1015\n",
            "1435  0  0  0  1     0     0  ...      1  110       0.0          0  1600    1114\n",
            "\n",
            "[20 rows x 23 columns]\n"
          ],
          "name": "stdout"
        }
      ]
    },
    {
      "cell_type": "code",
      "metadata": {
        "colab": {
          "base_uri": "https://localhost:8080/",
          "height": 1000
        },
        "id": "rVZMqsQDS9t7",
        "outputId": "f7c98655-6b41-47f8-b3a7-886a4fcd4006"
      },
      "source": [
        "import seaborn as sns\n",
        "from sklearn.preprocessing import LabelEncoder,OneHotEncoder\n",
        "import matplotlib.pyplot as plt\n",
        "\n",
        "data_corr = pd.read_csv('/content/drive/MyDrive/Sem7_ML_Data/LAB02/Exercise-CarData.csv')\n",
        "\n",
        "print(f\"\\n\\nData :- {data_corr}\\n\\n\")\n",
        "\n",
        "corr = data_corr.corr()\n",
        "corr.head()\n",
        "\n",
        "linewidths = 2\n",
        "linecolor = \"yellow\"\n",
        "\n",
        "sns.heatmap(corr)\n",
        "plt.show()\n",
        "sns.heatmap(corr, linewidths = linewidths, linecolor = linecolor)\n",
        "plt.show()\n",
        "sns.heatmap(corr, annot = True)\n",
        "plt.show()\n",
        "\n",
        "columns = np.full((corr.shape[0], ), True, dtype = bool)\n",
        "for i in range(corr.shape[0]):\n",
        "    for j in range(i + 1, corr.shape[0]):\n",
        "        if (corr.iloc[i, j] >= 0.9):\n",
        "            if (columns[j]):\n",
        "                columns[j] = False\n",
        "\n",
        "print(f\"\\n\\nColumns are {columns}\\n\\n\")"
      ],
      "execution_count": 40,
      "outputs": [
        {
          "output_type": "stream",
          "text": [
            "\n",
            "\n",
            "Data :-       Unnamed: 0  Price   Age     KM  ... Automatic    CC  Doors  Weight\n",
            "0              0  13500  23.0  46986  ...         0  2000  three    1165\n",
            "1              1  13750  23.0  72937  ...         0  2000      3    1165\n",
            "2              2  13950  24.0  41711  ...         0  2000      3    1165\n",
            "3              3  14950  26.0  48000  ...         0  2000      3    1165\n",
            "4              4  13750  30.0  38500  ...         0  2000      3    1170\n",
            "...          ...    ...   ...    ...  ...       ...   ...    ...     ...\n",
            "1431        1431   7500   NaN  20544  ...         0  1300      3    1025\n",
            "1432        1432  10845  72.0     ??  ...         0  1300      3    1015\n",
            "1433        1433   8500   NaN  17016  ...         0  1300      3    1015\n",
            "1434        1434   7250  70.0     ??  ...         0  1300      3    1015\n",
            "1435        1435   6950  76.0      1  ...         0  1600      5    1114\n",
            "\n",
            "[1436 rows x 11 columns]\n",
            "\n",
            "\n"
          ],
          "name": "stdout"
        },
        {
          "output_type": "display_data",
          "data": {
            "image/png": "[encoded data removed]",
            "text/plain": [
              "<Figure size 432x288 with 2 Axes>"
            ]
          },
          "metadata": {
            "tags": [],
            "needs_background": "light"
          }
        },
        {
          "output_type": "display_data",
          "data": {
            "image/png": "[encoded data removed]",
            "text/plain": [
              "<Figure size 432x288 with 2 Axes>"
            ]
          },
          "metadata": {
            "tags": [],
            "needs_background": "light"
          }
        },
        {
          "output_type": "display_data",
          "data": {
            "image/png": "[encoded data removed]",
            "text/plain": [
              "<Figure size 432x288 with 2 Axes>"
            ]
          },
          "metadata": {
            "tags": [],
            "needs_background": "light"
          }
        },
        {
          "output_type": "stream",
          "text": [
            "\n",
            "\n",
            "Columns are [ True  True False  True  True  True  True]\n",
            "\n",
            "\n"
          ],
          "name": "stdout"
        }
      ]
    },
    {
      "cell_type": "code",
      "metadata": {
        "id": "hPR8IIYmcuyW"
      },
      "source": [
        ""
      ],
      "execution_count": null,
      "outputs": []
    }
  ]
}