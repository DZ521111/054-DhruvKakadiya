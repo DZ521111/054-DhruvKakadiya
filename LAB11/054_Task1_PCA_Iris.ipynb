{
  "nbformat": 4,
  "nbformat_minor": 0,
  "metadata": {
    "colab": {
      "name": "054_Task1_PCA_Iris.ipynb",
      "provenance": []
    },
    "kernelspec": {
      "name": "python3",
      "display_name": "Python 3"
    },
    "language_info": {
      "name": "python"
    }
  },
  "cells": [
    {
      "cell_type": "code",
      "metadata": {
        "colab": {
          "base_uri": "https://localhost:8080/",
          "height": 35
        },
        "id": "muw59TPa8o4Y",
        "outputId": "51a14ee9-856a-49df-ff6a-5d2b369340df"
      },
      "source": [
        "'''\n",
        "Author: Dhruv B Kakadiya\n",
        "\n",
        "'''"
      ],
      "execution_count": 13,
      "outputs": [
        {
          "output_type": "execute_result",
          "data": {
            "application/vnd.google.colaboratory.intrinsic+json": {
              "type": "string"
            },
            "text/plain": [
              "'\\nAuthor: Dhruv B Kakadiya\\n\\n'"
            ]
          },
          "metadata": {},
          "execution_count": 13
        }
      ]
    },
    {
      "cell_type": "code",
      "metadata": {
        "id": "LtoSEu_1W1LX"
      },
      "source": [
        "# importing libraries\n",
        "\n",
        "import matplotlib.pyplot as plt\n",
        "import numpy as np\n",
        "import pandas as pd\n",
        "%matplotlib inline\n",
        "\n",
        "# for dataset\n",
        "from sklearn import datasets\n",
        "\n",
        "# for splitting training and testing part\n",
        "from sklearn.model_selection import train_test_split\n",
        "\n",
        "# for decompositions\n",
        "from sklearn import decomposition\n",
        "from sklearn import svm"
      ],
      "execution_count": 14,
      "outputs": []
    },
    {
      "cell_type": "code",
      "metadata": {
        "colab": {
          "base_uri": "https://localhost:8080/"
        },
        "id": "cG8u2euzXcXo",
        "outputId": "c3e7ef2f-2a1c-4a3e-c580-c1a61ed19403"
      },
      "source": [
        "from sklearn import datasets\n",
        "iris = datasets.load_iris()\n",
        "iris.keys()"
      ],
      "execution_count": 15,
      "outputs": [
        {
          "output_type": "execute_result",
          "data": {
            "text/plain": [
              "dict_keys(['data', 'target', 'target_names', 'DESCR', 'feature_names', 'filename'])"
            ]
          },
          "metadata": {},
          "execution_count": 15
        }
      ]
    },
    {
      "cell_type": "code",
      "metadata": {
        "colab": {
          "base_uri": "https://localhost:8080/"
        },
        "id": "Nj0VD-2ae3eR",
        "outputId": "a009ceb4-f947-4807-912b-5daf4cef2e2d"
      },
      "source": [
        "X_train, X_test, y_train, y_test = train_test_split(iris.data, iris.target, random_state = 54, test_size = 0.2)\n",
        "print(X_train.shape, X_test.shape)"
      ],
      "execution_count": 16,
      "outputs": [
        {
          "output_type": "stream",
          "name": "stdout",
          "text": [
            "(120, 4) (30, 4)\n"
          ]
        }
      ]
    },
    {
      "cell_type": "code",
      "metadata": {
        "colab": {
          "base_uri": "https://localhost:8080/"
        },
        "id": "0UValDK-e6DX",
        "outputId": "2f79269b-1822-474e-a0ed-30e399d62106"
      },
      "source": [
        "pca = decomposition.PCA(n_components=2,whiten=True)\n",
        "pca.fit(X_train)"
      ],
      "execution_count": 17,
      "outputs": [
        {
          "output_type": "execute_result",
          "data": {
            "text/plain": [
              "PCA(copy=True, iterated_power='auto', n_components=2, random_state=None,\n",
              "    svd_solver='auto', tol=0.0, whiten=True)"
            ]
          },
          "metadata": {},
          "execution_count": 17
        }
      ]
    },
    {
      "cell_type": "code",
      "metadata": {
        "colab": {
          "base_uri": "https://localhost:8080/"
        },
        "id": "1buX0xBte9ln",
        "outputId": "21f1bb38-3430-4589-e227-765eb8adfc4c"
      },
      "source": [
        "print(pca.components_.shape)"
      ],
      "execution_count": 18,
      "outputs": [
        {
          "output_type": "stream",
          "name": "stdout",
          "text": [
            "(2, 4)\n"
          ]
        }
      ]
    },
    {
      "cell_type": "code",
      "metadata": {
        "colab": {
          "base_uri": "https://localhost:8080/"
        },
        "id": "cldrjAwte_WX",
        "outputId": "0340ef7a-5af9-45ae-a9cc-bea29701992f"
      },
      "source": [
        "X_train_pca = pca.transform(X_train)\n",
        "X_test_pca = pca.transform(X_test)\n",
        "print(X_train_pca.shape)"
      ],
      "execution_count": 19,
      "outputs": [
        {
          "output_type": "stream",
          "name": "stdout",
          "text": [
            "(120, 2)\n"
          ]
        }
      ]
    },
    {
      "cell_type": "code",
      "metadata": {
        "colab": {
          "base_uri": "https://localhost:8080/"
        },
        "id": "enAdCE4ifBTe",
        "outputId": "7be0c400-5ffe-4829-ea38-d4bd4d024d62"
      },
      "source": [
        "print(X_test_pca.shape)"
      ],
      "execution_count": 20,
      "outputs": [
        {
          "output_type": "stream",
          "name": "stdout",
          "text": [
            "(30, 2)\n"
          ]
        }
      ]
    },
    {
      "cell_type": "code",
      "metadata": {
        "colab": {
          "base_uri": "https://localhost:8080/"
        },
        "id": "7ftxXgiMfE94",
        "outputId": "40653234-a8ac-4be4-dbe0-eef7a0c3d663"
      },
      "source": [
        "clf = svm.SVC(C = 5., gamma = 0.001)\n",
        "clf.fit(X_train_pca, y_train)"
      ],
      "execution_count": 21,
      "outputs": [
        {
          "output_type": "execute_result",
          "data": {
            "text/plain": [
              "SVC(C=5.0, break_ties=False, cache_size=200, class_weight=None, coef0=0.0,\n",
              "    decision_function_shape='ovr', degree=3, gamma=0.001, kernel='rbf',\n",
              "    max_iter=-1, probability=False, random_state=None, shrinking=True,\n",
              "    tol=0.001, verbose=False)"
            ]
          },
          "metadata": {},
          "execution_count": 21
        }
      ]
    },
    {
      "cell_type": "code",
      "metadata": {
        "colab": {
          "base_uri": "https://localhost:8080/"
        },
        "id": "MJ8u1Hj-fHgw",
        "outputId": "7e1985cf-6483-4e6e-f1df-5e4a0c31e75e"
      },
      "source": [
        "from sklearn import metrics\n",
        "y_pred = clf.predict(X_test_pca)\n",
        "print(y_pred)"
      ],
      "execution_count": 22,
      "outputs": [
        {
          "output_type": "stream",
          "name": "stdout",
          "text": [
            "[0 0 1 1 1 1 0 1 2 0 0 2 1 2 1 1 2 1 0 0 1 1 1 1 2 1 1 0 2 1]\n"
          ]
        }
      ]
    },
    {
      "cell_type": "code",
      "metadata": {
        "colab": {
          "base_uri": "https://localhost:8080/"
        },
        "id": "GLHg6M0SfLgo",
        "outputId": "cc58a1cd-7baf-4f49-f68f-1fe91c7ee24e"
      },
      "source": [
        "print(\"Accuracy:\",metrics.accuracy_score(y_test, y_pred))"
      ],
      "execution_count": 23,
      "outputs": [
        {
          "output_type": "stream",
          "name": "stdout",
          "text": [
            "Accuracy: 0.7666666666666667\n"
          ]
        }
      ]
    },
    {
      "cell_type": "code",
      "metadata": {
        "colab": {
          "base_uri": "https://localhost:8080/"
        },
        "id": "jzcmN2FIfOYf",
        "outputId": "016f8e6a-1360-46f2-906e-ca2cd2d5eaa7"
      },
      "source": [
        "print(metrics.classification_report(y_test, y_pred))"
      ],
      "execution_count": 24,
      "outputs": [
        {
          "output_type": "stream",
          "name": "stdout",
          "text": [
            "              precision    recall  f1-score   support\n",
            "\n",
            "           0       1.00      1.00      1.00         8\n",
            "           1       0.62      0.91      0.74        11\n",
            "           2       0.83      0.45      0.59        11\n",
            "\n",
            "    accuracy                           0.77        30\n",
            "   macro avg       0.82      0.79      0.78        30\n",
            "weighted avg       0.80      0.77      0.75        30\n",
            "\n"
          ]
        }
      ]
    },
    {
      "cell_type": "code",
      "metadata": {
        "id": "PMSqbxFHfQ5n"
      },
      "source": [
        ""
      ],
      "execution_count": 24,
      "outputs": []
    }
  ]
}